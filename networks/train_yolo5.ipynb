{
 "cells": [
  {
   "cell_type": "code",
   "execution_count": null,
   "id": "0f2e99e5",
   "metadata": {},
   "outputs": [],
   "source": [
    "import os\n",
    "import shutil\n",
    "import xml.etree.ElementTree as ET\n",
    "import cv2\n",
    "from typing import Any, Callable, Dict, List, Optional, Tuple, Union\n",
    "import collections\n"
   ]
  },
  {
   "cell_type": "code",
   "execution_count": null,
   "id": "843e8cfa",
   "metadata": {},
   "outputs": [],
   "source": [
    "def parse_voc_xml(node: ET.Element) -> Dict[str, Any]:\n",
    "    voc_dict: Dict[str, Any] = {}\n",
    "    children = list(node)\n",
    "    if children:\n",
    "        def_dic: Dict[str, Any] = collections.defaultdict(list)\n",
    "        for dc in map(parse_voc_xml, children):\n",
    "            for ind, v in dc.items():\n",
    "                def_dic[ind].append(v)\n",
    "        if node.tag == 'annotation':\n",
    "            def_dic['object'] = [def_dic['object']]\n",
    "        voc_dict = {\n",
    "            node.tag:\n",
    "                {ind: v[0] if len(v) == 1 else v\n",
    "                 for ind, v in def_dic.items()}\n",
    "        }\n",
    "    if node.text:\n",
    "        text = node.text.strip()\n",
    "        if not children:\n",
    "            voc_dict[node.tag] = text\n",
    "    return voc_dict\n",
    "\n",
    "\n",
    "def get_imgSize_and_list_of_yxyx(xml_path):\n",
    "    mytree = parse_voc_xml(ET.parse(xml_path).getroot())\n",
    "    xyxy=[]\n",
    "    for p in mytree['annotation']['object']:\n",
    "        y1=int(p['bndbox']['ymin'])\n",
    "        x1=int(p['bndbox']['xmin'])\n",
    "        y2=int(p['bndbox']['ymax'])\n",
    "        x2=int(p['bndbox']['xmax'])\n",
    "        xyxy.append(((x1,y1),(x2,y2)))\n",
    "    size=(int(mytree['annotation']['size']['width']),int(mytree['annotation']['size']['height']))\n",
    "    return size, xyxy\n",
    "\n",
    "\n",
    "\n",
    "def get_xywh_from_point(size,points):\n",
    "    w,h=size\n",
    "    x=((points[0][0]+points[1][0])/2)/w\n",
    "    y=((points[0][1]+points[1][1])/2)/h\n",
    "    im_w=abs((points[0][0]-points[1][0]))/w\n",
    "    im_h=abs((points[0][1]-points[1][1]))/h\n",
    "    return x,y,im_w,im_h"
   ]
  },
  {
   "cell_type": "code",
   "execution_count": null,
   "id": "5d6bcaac",
   "metadata": {},
   "outputs": [],
   "source": [
    "labels_dir='./data/TrainingData/labels'\n",
    "anotation_path = '../../ladd-and-weights/dataset/full_train_ds/Annotations/'\n",
    "\n",
    "os.makedirs(labels_dir,exist_ok=True)\n",
    "for xml_name in os.listdir(anotation_path):\n",
    "    id,_ = os.path.splitext(xml_name)\n",
    "    img_size, points_yxyx=get_imgSize_and_list_of_yxyx(os.path.join(anotation_path,xml_name))\n",
    "    xywhs=[get_xywh_from_point(img_size,xyxy_single) for xyxy_single in points_yxyx]\n",
    "    f=open(os.path.join(labels_dir,id+'.txt'),'w')\n",
    "    for box in xywhs:\n",
    "        f.write(\" \".join(['0',*map(str,box)])+'\\n')\n",
    "    f.close()"
   ]
  },
  {
   "cell_type": "code",
   "execution_count": null,
   "id": "9ff3dd1c",
   "metadata": {},
   "outputs": [],
   "source": [
    "dataset_images_path='./data/images'\n",
    "dataset_labels_path='./data/labels'\n",
    "os.makedirs(dataset_images_path,exist_ok=True)\n",
    "os.makedirs(dataset_labels_path, exist_ok=True)\n",
    "\n",
    "# train_file=open('../../ladd-and-weights/dataset/full_train_ds/ImageSets/Main/train_non_empty.txt','r')\n",
    "train_file=open('../../ladd-and-weights/dataset/full_train_ds/ImageSets/Main/train.txt','r')\n",
    "\n",
    "for id in train_file.readlines():\n",
    "    id=id.strip()\n",
    "    images_train_path=os.path.join(dataset_images_path,'train')\n",
    "    labels_train_path=os.path.join(dataset_labels_path,'train')\n",
    "    os.makedirs(images_train_path,exist_ok=True)  \n",
    "    os.makedirs(labels_train_path,exist_ok=True)\n",
    "    shutil.copy(os.path.join('../../ladd-and-weights/dataset/full_train_ds/JPEGImages',id+'.jpg')\n",
    "              ,os.path.join(images_train_path,id+'.jpg'))\n",
    "    shutil.copy(os.path.join('./data/TrainingData/labels/',id+'.txt')\n",
    "              ,os.path.join(labels_train_path,id+'.txt'))    \n",
    "\n"
   ]
  },
  {
   "cell_type": "code",
   "execution_count": null,
   "id": "74b560a8",
   "metadata": {},
   "outputs": [],
   "source": [
    "val_file=open('../../ladd-and-weights/dataset/full_train_ds/ImageSets/Main/val.txt','r')\n",
    "for id in val_file.readlines():\n",
    "    id=id.strip()\n",
    "    images_train_path=os.path.join(dataset_images_path,'valid')\n",
    "    labels_train_path=os.path.join(dataset_labels_path,'valid')\n",
    "    os.makedirs(images_train_path,exist_ok=True)  \n",
    "    os.makedirs(labels_train_path,exist_ok=True)\n",
    "    shutil.copy(os.path.join('../../../git/ladd-and-weights/dataset/full_train_ds/JPEGImages',id+'.jpg')\n",
    "              ,os.path.join(images_train_path,id+'.jpg'))\n",
    "    shutil.move(os.path.join('./data/TrainingData/labels/',id+'.txt')\n",
    "              ,os.path.join(labels_train_path,id+'.txt'))    \n",
    "  "
   ]
  },
  {
   "cell_type": "code",
   "execution_count": null,
   "id": "83b55d1a-0ea2-457f-9829-84fd82491d85",
   "metadata": {},
   "outputs": [],
   "source": [
    "# script for network training\n",
    "# Adjust batch size, workers according to your GPU and CPU resources\n",
    "# !python ./yolov5/train.py --hyp ./yolo5_settings/hyp_lacmus.yaml --batch-size 8 --worker 16 --data ./yolo5_settings/dataset_lacmus_local.yaml --weights yolov5s.pt --imgsz 1984 --epochs 50"
   ]
  },
  {
   "cell_type": "code",
   "execution_count": 1,
   "id": "6a01fb42",
   "metadata": {},
   "outputs": [],
   "source": [
    "# this exported without nms. Go get it with NMS see below\n",
    "# cd .. & git clone https://github.com/ultralytics/yolov5\n",
    "# python ./yolov5/export.py --data ./yolo5_settings/dataset_lacmus_local.yaml --weights ./exp13/weights/best.pt --img-size 1984 --dynamic --include onnx --conf-thres 0.05 --iou-thres 0.2 --batch 1\n",
    "# python ./yolov5/detect.py --weights exp13/weights/best.onnx --source ../../../git/ladd-and-weights/dataset/full_train_ds/JPEGImages --imgsz 1984 --save-txt --conf-thres 0.05 --iou-thres 0.2"
   ]
  },
  {
   "cell_type": "code",
   "execution_count": 3,
   "id": "d0991e83-fb5e-464e-9352-73dcb4ced981",
   "metadata": {},
   "outputs": [],
   "source": [
    "# At moment of writing only way to get nms within onnx is exporting tensorlow and then converting it to onnx (unless we want to run own code)\n",
    "# https://github.com/ultralytics/yolov5/pull/5938#issuecomment-991163408\n",
    "# export\n",
    "# python ./yolov5/export.py --data ./yolo5_settings/dataset_lacmus_local.yaml --weights ./exp13/weights/best.pt --img-size 1984 --dynamic --include pb --conf-thres 0.05 --iou-thres 0.2 --batch 1 --nms\n",
    "\n",
    "## validation/detection doesn't works yet, as it don't have much ideas if model exported with nms\n",
    "## python ./yolov5/detect.py --weights exp13/weights/best_saved_model --source ../../../git/ladd-and-weights/dataset/full_train_ds/JPEGImages --imgsz 1984 --save-txt --conf-thres 0.05 --iou-thres 0.2\n",
    "\n",
    "# Then you have to create onnx based on exported model\n",
    "# python -m tf2onnx.convert --saved-model ./exp13/weights/best_saved_model --opset 13 --output tf2onnx_best.onnx\n",
    "\n"
   ]
  },
  {
   "cell_type": "code",
   "execution_count": null,
   "id": "4a4eb21d-c14e-40a3-85c8-107381e7e3b0",
   "metadata": {},
   "outputs": [],
   "source": []
  }
 ],
 "metadata": {
  "kernelspec": {
   "display_name": "Python 3 (ipykernel)",
   "language": "python",
   "name": "python3"
  },
  "language_info": {
   "codemirror_mode": {
    "name": "ipython",
    "version": 3
   },
   "file_extension": ".py",
   "mimetype": "text/x-python",
   "name": "python",
   "nbconvert_exporter": "python",
   "pygments_lexer": "ipython3",
   "version": "3.9.7"
  }
 },
 "nbformat": 4,
 "nbformat_minor": 5
}
