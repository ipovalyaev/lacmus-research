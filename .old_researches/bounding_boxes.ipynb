{
 "cells": [
  {
   "cell_type": "code",
   "execution_count": 1,
   "metadata": {},
   "outputs": [],
   "source": [
    "import numpy as np\n",
    "import pandas as pd\n",
    "import cv2\n",
    "import os\n",
    "import xml.etree.cElementTree as ET\n",
    "import matplotlib.pyplot as plt\n",
    "%matplotlib inline\n",
    "\n",
    "#try:\n",
    "#    import xml.etree.cElementTree as ET\n",
    "#except ImportError:\n",
    "#    import xml.etree.ElementTree as ET\n",
    "\n",
    "voc_classes = {\n",
    "    'Pedestrian'   : 0\n",
    "}"
   ]
  },
  {
   "cell_type": "markdown",
   "metadata": {},
   "source": [
    "#### Annotations parsing functions"
   ]
  },
  {
   "cell_type": "code",
   "execution_count": 2,
   "metadata": {},
   "outputs": [],
   "source": [
    "def findNode(parent, name, debug_name=None, parse=None):\n",
    "    if debug_name is None:\n",
    "        debug_name = name\n",
    "\n",
    "    result = parent.find(name)\n",
    "    if result is None:\n",
    "        raise ValueError('missing element \\'{}\\''.format(debug_name))\n",
    "    if parse is not None:\n",
    "        try:\n",
    "            return parse(result.text)\n",
    "        except ValueError as e:\n",
    "            raise ValueError('illegal value for \\'{}\\': {}'.format(debug_name, e))\n",
    "    return result"
   ]
  },
  {
   "cell_type": "code",
   "execution_count": 3,
   "metadata": {},
   "outputs": [],
   "source": [
    "def find_bbox(element):\n",
    "    class_name = findNode(element, 'name').text\n",
    "    if class_name not in voc_classes:\n",
    "        raise ValueError(\n",
    "                'class name \\'{}\\' not found in classes: {}'.format(class_name, voc_classes.keys()))\n",
    "\n",
    "    box = np.zeros((4,))\n",
    "\n",
    "    bndbox    = findNode(element, 'bndbox')\n",
    "        \n",
    "    box[0] = findNode(bndbox, 'xmin', 'bndbox.xmin', parse=float) - 1\n",
    "    box[1] = findNode(bndbox, 'ymin', 'bndbox.ymin', parse=float) - 1\n",
    "    box[2] = findNode(bndbox, 'xmax', 'bndbox.xmax', parse=float) - 1\n",
    "    box[3] = findNode(bndbox, 'ymax', 'bndbox.ymax', parse=float) - 1\n",
    "\n",
    "    return box"
   ]
  },
  {
   "cell_type": "code",
   "execution_count": 4,
   "metadata": {},
   "outputs": [],
   "source": [
    "def parse_annotations(xml_root):\n",
    "\n",
    "    bboxes = np.empty((len(xml_root.findall('object')), 4))\n",
    "        \n",
    "    for i, element in enumerate(xml_root.iter('object')):\n",
    "        try:\n",
    "            bboxes[i, :] = find_bbox(element)\n",
    "        except ValueError as e:\n",
    "            raise ValueError('could not parse object #{}: {}'.format(i, e))\n",
    "    \n",
    "    return bboxes"
   ]
  },
  {
   "cell_type": "code",
   "execution_count": 5,
   "metadata": {},
   "outputs": [],
   "source": [
    "def load_bboxes(data_dir, filename):\n",
    "    try:\n",
    "        tree = ET.parse(os.path.join(data_dir, 'Annotations', filename))\n",
    "        return parse_annotations(tree.getroot())\n",
    "    except ET.ParseError as e:\n",
    "        raise ValueError('invalid annotations file: {}: {}'.format(filename, e))\n",
    "    except ValueError as e:\n",
    "        raise ValueError('invalid annotations file: {}: {}'.format(filename, e))"
   ]
  },
  {
   "cell_type": "markdown",
   "metadata": {},
   "source": [
    "#### Scaling functions"
   ]
  },
  {
   "cell_type": "code",
   "execution_count": 8,
   "metadata": {},
   "outputs": [],
   "source": [
    "def compute_resize_scale(path, min_side=800, max_side=1333):\n",
    "    \"\"\" Compute an image scale such that the image size is constrained to min_side and max_side.\n",
    "\n",
    "    Args\n",
    "        min_side: The image's min side will be equal to min_side after resizing.\n",
    "        max_side: If after resizing the image's max side is above max_side, resize until the max side is equal to max_side.\n",
    "\n",
    "    Returns\n",
    "        A resizing scale.\n",
    "    \"\"\"\n",
    "    img_bgr = cv2.imread(path)\n",
    "    image = np.asarray(img_bgr)\n",
    "    \n",
    "    (rows, cols, _) = image.shape\n",
    "\n",
    "    smallest_side = min(rows, cols)\n",
    "\n",
    "    # rescale the image so the smallest side is min_side\n",
    "    scale = min_side / smallest_side\n",
    "\n",
    "    # check if the largest side is now greater than max_side, which can happen\n",
    "    # when images have a large aspect ratio\n",
    "    largest_side = max(rows, cols)\n",
    "    if largest_side * scale > max_side:\n",
    "        scale = max_side / largest_side\n",
    "\n",
    "    return scale"
   ]
  },
  {
   "cell_type": "markdown",
   "metadata": {},
   "source": [
    "#### Creating Pandas dataframe"
   ]
  },
  {
   "cell_type": "code",
   "execution_count": 9,
   "metadata": {},
   "outputs": [],
   "source": [
    "df = pd.DataFrame(\n",
    "    columns=['Dataset', 'Image', 'Width', 'Height', 'Width_Scaled', 'Height_Scaled', 'Aspect_ratio'])\n",
    "\n",
    "datasets_dir = '../data/laddv4/'\n",
    "i = 0\n",
    "for dataset in ['winter', 'summer', 'spring']:\n",
    "    data_dir = os.path.join(datasets_dir, dataset)\n",
    "    images_dir = os.path.join(data_dir, 'JPEGImages')\n",
    "    images = [f.split('.')[0] for f in os.listdir(images_dir) if os.path.isfile(os.path.join(images_dir, f))]\n",
    "    for image in images:\n",
    "        scale = compute_resize_scale(os.path.join(images_dir, image + '.jpg'))\n",
    "        bboxes = load_bboxes(data_dir, image + '.' + 'xml')\n",
    "        for box in bboxes:\n",
    "            width = box[2]-box[0]\n",
    "            height = box[3]-box[1]\n",
    "            aspect_ratio = float(width) / float(height)\n",
    "            df.loc[i] = [dataset, image, width, height, width * scale, height * scale, aspect_ratio]\n",
    "            i += 1"
   ]
  },
  {
   "cell_type": "code",
   "execution_count": 40,
   "metadata": {},
   "outputs": [
    {
     "data": {
      "text/html": [
       "<div>\n",
       "<style scoped>\n",
       "    .dataframe tbody tr th:only-of-type {\n",
       "        vertical-align: middle;\n",
       "    }\n",
       "\n",
       "    .dataframe tbody tr th {\n",
       "        vertical-align: top;\n",
       "    }\n",
       "\n",
       "    .dataframe thead th {\n",
       "        text-align: right;\n",
       "    }\n",
       "</style>\n",
       "<table border=\"1\" class=\"dataframe\">\n",
       "  <thead>\n",
       "    <tr style=\"text-align: right;\">\n",
       "      <th></th>\n",
       "      <th>Dataset</th>\n",
       "      <th>Image</th>\n",
       "      <th>Width</th>\n",
       "      <th>Height</th>\n",
       "      <th>Width_Scaled</th>\n",
       "      <th>Height_Scaled</th>\n",
       "      <th>Aspect_ratio</th>\n",
       "    </tr>\n",
       "  </thead>\n",
       "  <tbody>\n",
       "    <tr>\n",
       "      <td>0</td>\n",
       "      <td>winter</td>\n",
       "      <td>268</td>\n",
       "      <td>61.0</td>\n",
       "      <td>65.0</td>\n",
       "      <td>16.266667</td>\n",
       "      <td>17.333333</td>\n",
       "      <td>0.938462</td>\n",
       "    </tr>\n",
       "    <tr>\n",
       "      <td>1</td>\n",
       "      <td>winter</td>\n",
       "      <td>268</td>\n",
       "      <td>62.0</td>\n",
       "      <td>62.0</td>\n",
       "      <td>16.533333</td>\n",
       "      <td>16.533333</td>\n",
       "      <td>1.000000</td>\n",
       "    </tr>\n",
       "    <tr>\n",
       "      <td>2</td>\n",
       "      <td>winter</td>\n",
       "      <td>12</td>\n",
       "      <td>44.0</td>\n",
       "      <td>56.0</td>\n",
       "      <td>11.733333</td>\n",
       "      <td>14.933333</td>\n",
       "      <td>0.785714</td>\n",
       "    </tr>\n",
       "    <tr>\n",
       "      <td>3</td>\n",
       "      <td>winter</td>\n",
       "      <td>12</td>\n",
       "      <td>66.0</td>\n",
       "      <td>66.0</td>\n",
       "      <td>17.600000</td>\n",
       "      <td>17.600000</td>\n",
       "      <td>1.000000</td>\n",
       "    </tr>\n",
       "    <tr>\n",
       "      <td>4</td>\n",
       "      <td>winter</td>\n",
       "      <td>300</td>\n",
       "      <td>58.0</td>\n",
       "      <td>43.0</td>\n",
       "      <td>15.466667</td>\n",
       "      <td>11.466667</td>\n",
       "      <td>1.348837</td>\n",
       "    </tr>\n",
       "    <tr>\n",
       "      <td>...</td>\n",
       "      <td>...</td>\n",
       "      <td>...</td>\n",
       "      <td>...</td>\n",
       "      <td>...</td>\n",
       "      <td>...</td>\n",
       "      <td>...</td>\n",
       "      <td>...</td>\n",
       "    </tr>\n",
       "    <tr>\n",
       "      <td>3170</td>\n",
       "      <td>spring</td>\n",
       "      <td>973</td>\n",
       "      <td>86.0</td>\n",
       "      <td>68.0</td>\n",
       "      <td>18.859649</td>\n",
       "      <td>14.912281</td>\n",
       "      <td>1.264706</td>\n",
       "    </tr>\n",
       "    <tr>\n",
       "      <td>3171</td>\n",
       "      <td>spring</td>\n",
       "      <td>1008</td>\n",
       "      <td>57.0</td>\n",
       "      <td>109.0</td>\n",
       "      <td>12.500000</td>\n",
       "      <td>23.903509</td>\n",
       "      <td>0.522936</td>\n",
       "    </tr>\n",
       "    <tr>\n",
       "      <td>3172</td>\n",
       "      <td>spring</td>\n",
       "      <td>983</td>\n",
       "      <td>88.0</td>\n",
       "      <td>52.0</td>\n",
       "      <td>19.298246</td>\n",
       "      <td>11.403509</td>\n",
       "      <td>1.692308</td>\n",
       "    </tr>\n",
       "    <tr>\n",
       "      <td>3173</td>\n",
       "      <td>spring</td>\n",
       "      <td>983</td>\n",
       "      <td>105.0</td>\n",
       "      <td>45.0</td>\n",
       "      <td>23.026316</td>\n",
       "      <td>9.868421</td>\n",
       "      <td>2.333333</td>\n",
       "    </tr>\n",
       "    <tr>\n",
       "      <td>3174</td>\n",
       "      <td>spring</td>\n",
       "      <td>983</td>\n",
       "      <td>72.0</td>\n",
       "      <td>47.0</td>\n",
       "      <td>15.789474</td>\n",
       "      <td>10.307018</td>\n",
       "      <td>1.531915</td>\n",
       "    </tr>\n",
       "  </tbody>\n",
       "</table>\n",
       "<p>3175 rows × 7 columns</p>\n",
       "</div>"
      ],
      "text/plain": [
       "     Dataset Image  Width  Height  Width_Scaled  Height_Scaled  Aspect_ratio\n",
       "0     winter   268   61.0    65.0     16.266667      17.333333      0.938462\n",
       "1     winter   268   62.0    62.0     16.533333      16.533333      1.000000\n",
       "2     winter    12   44.0    56.0     11.733333      14.933333      0.785714\n",
       "3     winter    12   66.0    66.0     17.600000      17.600000      1.000000\n",
       "4     winter   300   58.0    43.0     15.466667      11.466667      1.348837\n",
       "...      ...   ...    ...     ...           ...            ...           ...\n",
       "3170  spring   973   86.0    68.0     18.859649      14.912281      1.264706\n",
       "3171  spring  1008   57.0   109.0     12.500000      23.903509      0.522936\n",
       "3172  spring   983   88.0    52.0     19.298246      11.403509      1.692308\n",
       "3173  spring   983  105.0    45.0     23.026316       9.868421      2.333333\n",
       "3174  spring   983   72.0    47.0     15.789474      10.307018      1.531915\n",
       "\n",
       "[3175 rows x 7 columns]"
      ]
     },
     "execution_count": 40,
     "metadata": {},
     "output_type": "execute_result"
    }
   ],
   "source": [
    "df"
   ]
  },
  {
   "cell_type": "code",
   "execution_count": 43,
   "metadata": {},
   "outputs": [
    {
     "data": {
      "text/plain": [
       "<matplotlib.axes._subplots.AxesSubplot at 0x7f98ed3c7a10>"
      ]
     },
     "execution_count": 43,
     "metadata": {},
     "output_type": "execute_result"
    },
    {
     "data": {
      "image/png": "[encoded data removed]",
      "text/plain": [
       "<Figure size 432x288 with 1 Axes>"
      ]
     },
     "metadata": {
      "needs_background": "light"
     },
     "output_type": "display_data"
    }
   ],
   "source": [
    "df['Width_Scaled'].hist(bins=25)"
   ]
  },
  {
   "cell_type": "code",
   "execution_count": 44,
   "metadata": {},
   "outputs": [
    {
     "data": {
      "text/plain": [
       "<matplotlib.axes._subplots.AxesSubplot at 0x7f98f081d910>"
      ]
     },
     "execution_count": 44,
     "metadata": {},
     "output_type": "execute_result"
    },
    {
     "data": {
      "image/png": "[encoded data removed]",
      "text/plain": [
       "<Figure size 432x288 with 1 Axes>"
      ]
     },
     "metadata": {
      "needs_background": "light"
     },
     "output_type": "display_data"
    }
   ],
   "source": [
    "df['Height_Scaled'].hist(bins=25)"
   ]
  },
  {
   "cell_type": "code",
   "execution_count": 10,
   "metadata": {},
   "outputs": [
    {
     "data": {
      "text/plain": [
       "<matplotlib.axes._subplots.AxesSubplot at 0x7f334087e150>"
      ]
     },
     "execution_count": 10,
     "metadata": {},
     "output_type": "execute_result"
    },
    {
     "data": {
      "image/png": "[encoded data removed]",
      "text/plain": [
       "<Figure size 432x288 with 1 Axes>"
      ]
     },
     "metadata": {
      "needs_background": "light"
     },
     "output_type": "display_data"
    }
   ],
   "source": [
    "df['Aspect_ratio'].hist(bins=40)"
   ]
  },
  {
   "cell_type": "code",
   "execution_count": 11,
   "metadata": {},
   "outputs": [
    {
     "data": {
      "image/png": "[encoded data removed]",
      "text/plain": [
       "<Figure size 432x288 with 1 Axes>"
      ]
     },
     "metadata": {
      "needs_background": "light"
     },
     "output_type": "display_data"
    }
   ],
   "source": [
    "fig = plt.hist2d(df['Width'], df['Height'], bins=25)"
   ]
  },
  {
   "cell_type": "code",
   "execution_count": 53,
   "metadata": {},
   "outputs": [
    {
     "data": {
      "image/png": "[encoded data removed]",
      "text/plain": [
       "<Figure size 432x288 with 1 Axes>"
      ]
     },
     "metadata": {
      "needs_background": "light"
     },
     "output_type": "display_data"
    }
   ],
   "source": [
    "fig = plt.hist2d(df['Width_Scaled'], df['Height_Scaled'], bins=25)"
   ]
  },
  {
   "cell_type": "code",
   "execution_count": null,
   "metadata": {},
   "outputs": [],
   "source": []
  }
 ],
 "metadata": {
  "kernelspec": {
   "display_name": "Python 3",
   "language": "python",
   "name": "python3"
  },
  "language_info": {
   "codemirror_mode": {
    "name": "ipython",
    "version": 3
   },
   "file_extension": ".py",
   "mimetype": "text/x-python",
   "name": "python",
   "nbconvert_exporter": "python",
   "pygments_lexer": "ipython3",
   "version": "3.7.4"
  }
 },
 "nbformat": 4,
 "nbformat_minor": 2
}
