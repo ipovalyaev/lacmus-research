{
 "cells": [
  {
   "cell_type": "markdown",
   "metadata": {},
   "source": [
    "Checks the difference between performing image preprocessing before resize and vice versa"
   ]
  },
  {
   "cell_type": "code",
   "execution_count": 52,
   "metadata": {},
   "outputs": [],
   "source": [
    "from keras_retinanet.utils.image import preprocess_image, resize_image\n",
    "import numpy as np\n",
    "import time"
   ]
  },
  {
   "cell_type": "code",
   "execution_count": 53,
   "metadata": {},
   "outputs": [],
   "source": [
    "original_width = 4000\n",
    "original_height = 3000"
   ]
  },
  {
   "cell_type": "code",
   "execution_count": 54,
   "metadata": {},
   "outputs": [],
   "source": [
    "image = np.random.rand(original_width, original_height, 3) * 255"
   ]
  },
  {
   "cell_type": "markdown",
   "metadata": {},
   "source": [
    "#### Caffe "
   ]
  },
  {
   "cell_type": "code",
   "execution_count": 55,
   "metadata": {},
   "outputs": [],
   "source": [
    "start = time.time()\n",
    "preprocessed_caffe = preprocess_image(image)\n",
    "preprocessed_caffe_resized, _ = resize_image(preprocessed_caffe)\n",
    "preprocessed_caffe_resized_time = time.time() - start"
   ]
  },
  {
   "cell_type": "code",
   "execution_count": 56,
   "metadata": {},
   "outputs": [],
   "source": [
    "start = time.time()\n",
    "resized, _ = resize_image(image)\n",
    "resized_preprocessed_caffe = preprocess_image(resized)\n",
    "resize_preprocess_caffe_time = time.time() - start"
   ]
  },
  {
   "cell_type": "code",
   "execution_count": 58,
   "metadata": {},
   "outputs": [
    {
     "name": "stdout",
     "output_type": "stream",
     "text": [
      "Differences:\n",
      "min: 0.0 max: 4.5776367e-05 avg: 3.6646816e-06\n",
      "preprocess_caffe before resize time: 0.0893411636352539\n",
      "resize before preprocess_caffe time: 0.012088298797607422\n"
     ]
    }
   ],
   "source": [
    "dif = np.abs(preprocessed_caffe_resized - resized_preprocessed_caffe)\n",
    "print(\"Differences:\")\n",
    "print('min:', np.min(dif), 'max:', np.max(dif), 'avg:', np.mean(dif))\n",
    "print(\"preprocess_caffe before resize time:\", preprocessed_caffe_resized_time)\n",
    "print(\"resize before preprocess_caffe time:\", resize_preprocess_caffe_time)"
   ]
  },
  {
   "cell_type": "markdown",
   "metadata": {},
   "source": [
    "#### Tf"
   ]
  },
  {
   "cell_type": "code",
   "execution_count": 63,
   "metadata": {},
   "outputs": [],
   "source": [
    "start = time.time()\n",
    "preprocessed_tf = preprocess_image(image, mode='tf')\n",
    "preprocessed_tf_resized, _ = resize_image(preprocessed_tf)\n",
    "preprocessed_tf_resized_time = time.time() - start"
   ]
  },
  {
   "cell_type": "code",
   "execution_count": 64,
   "metadata": {},
   "outputs": [],
   "source": [
    "start = time.time()\n",
    "resized, _ = resize_image(image)\n",
    "resized_preprocessed_tf = preprocess_image(resized, mode='tf')\n",
    "resize_preprocess_tf_time = time.time() - start"
   ]
  },
  {
   "cell_type": "code",
   "execution_count": 66,
   "metadata": {},
   "outputs": [
    {
     "name": "stdout",
     "output_type": "stream",
     "text": [
      "Differences:\n",
      "min: 0.0 max: 2.9802322e-07 avg: 3.66169e-08\n",
      "preprocess_tf before resize time: 0.07259011268615723\n",
      "resize before preprocess_tf time: 0.010900259017944336\n"
     ]
    }
   ],
   "source": [
    "dif = np.abs(preprocessed_tf_resized - resized_preprocessed_tf)\n",
    "print(\"Differences:\")\n",
    "print('min:', np.min(dif), 'max:', np.max(dif), 'avg:', np.mean(dif))\n",
    "print(\"preprocess_tf before resize time:\", preprocessed_tf_resized_time)\n",
    "print(\"resize before preprocess_tf time:\", resize_preprocess_tf_time)"
   ]
  },
  {
   "cell_type": "code",
   "execution_count": null,
   "metadata": {},
   "outputs": [],
   "source": []
  }
 ],
 "metadata": {
  "kernelspec": {
   "display_name": "Python 3",
   "language": "python",
   "name": "python3"
  },
  "language_info": {
   "codemirror_mode": {
    "name": "ipython",
    "version": 3
   },
   "file_extension": ".py",
   "mimetype": "text/x-python",
   "name": "python",
   "nbconvert_exporter": "python",
   "pygments_lexer": "ipython3",
   "version": "3.7.7"
  }
 },
 "nbformat": 4,
 "nbformat_minor": 4
}
