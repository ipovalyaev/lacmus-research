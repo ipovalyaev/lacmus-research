{
 "cells": [
  {
   "cell_type": "code",
   "execution_count": 2,
   "metadata": {
    "tags": []
   },
   "outputs": [
    {
     "name": "stdout",
     "output_type": "stream",
     "text": [
      "1.14.0\n"
     ]
    }
   ],
   "source": [
    "import numpy as np\n",
    "import matplotlib.pyplot as plt\n",
    "%matplotlib inline\n",
    "import glob\n",
    "import os\n",
    "os.environ[\"SM_FRAMEWORK\"] = \"tf.keras\"\n",
    "import sys\n",
    "import tensorflow as tf\n",
    "import segmentation_models as sm\n",
    "#from keras import backend as K\n",
    "#K.set_image_data_format('channels_last')\n",
    "from ImageDataAugmentor.image_data_augmentor import *\n",
    "import albumentations\n",
    "from datetime import datetime\n",
    "print(tf.__version__)"
   ]
  },
  {
   "cell_type": "code",
   "execution_count": 2,
   "metadata": {
    "tags": []
   },
   "outputs": [
    {
     "name": "stdout",
     "output_type": "stream",
     "text": [
      "Model name:                      Intel(R) Core(TM) i7-9750H CPU @ 2.60GHz\r\n"
     ]
    }
   ],
   "source": [
    "!lscpu | grep \"Model name\""
   ]
  },
  {
   "cell_type": "code",
   "execution_count": 3,
   "metadata": {
    "tags": []
   },
   "outputs": [
    {
     "name": "stdout",
     "output_type": "stream",
     "text": [
      "Found 6812 images belonging to 1 classes.\n"
     ]
    }
   ],
   "source": [
    "def image_preprocessing(x):\n",
    "    x = x/255. # rescale to [0,1]\n",
    "    return(x)\n",
    "    \n",
    "TEST_AUGMENTATIONS = albumentations.Compose([\n",
    "    albumentations.HorizontalFlip(p=0.5)\n",
    "])\n",
    "\n",
    "img_test_data_gen = ImageDataAugmentor(augment=TEST_AUGMENTATIONS, \n",
    "                                  augment_seed=123,\n",
    "                                  preprocess_input = image_preprocessing)\n",
    "img_test_gen = img_test_data_gen.flow_from_directory('./test_data/img', \n",
    "                                           class_mode=None, \n",
    "                                           shuffle=True, \n",
    "                                           seed=123, \n",
    "                                           color_mode='rgb', \n",
    "                                           target_size=(512, 512),\n",
    "                                           batch_size=4)"
   ]
  },
  {
   "cell_type": "code",
   "execution_count": 4,
   "metadata": {},
   "outputs": [],
   "source": [
    "def query(model):\n",
    "    image_batch = next(img_test_gen)\n",
    "    for i in range(4):\n",
    "        start = datetime.now()\n",
    "        pred = model.predict_on_batch(np.expand_dims(image_batch[i,:,:,:], axis=0))\n",
    "        end = datetime.now()\n",
    "        print(end - start)"
   ]
  },
  {
   "cell_type": "code",
   "execution_count": 24,
   "metadata": {},
   "outputs": [],
   "source": [
    "from typing import List, Optional, NamedTuple\n",
    "class Rectangle(NamedTuple):\n",
    "    \"\"\"Хранит координаты прямоугольника (xmin, ymin) - (xmax, ymax)\"\"\"\n",
    "\n",
    "    xmin: int\n",
    "    ymin: int\n",
    "    xmax: int\n",
    "    ymax: int\n",
    "\n",
    "    @property\n",
    "    def w(self) -> int:\n",
    "        \"\"\"Ширина\"\"\"\n",
    "        return self.xmax - self.xmin\n",
    "\n",
    "    @property\n",
    "    def h(self) -> int:\n",
    "        \"\"\"Высота\"\"\"\n",
    "        return self.ymax - self.ymin\n",
    "\n",
    "    @property\n",
    "    def square(self) -> float:\n",
    "        \"\"\"Площадь\"\"\"\n",
    "        return self.w * self.h\n",
    "\n",
    "\n",
    "def image_grid(image_w: int, image_h: int,\n",
    "               window_w: int, window_h: int,\n",
    "               overlap_w: int, overlap_h: int) -> List[Rectangle]:\n",
    "    \"\"\"Рассчитывает координаты прямоугольников для разбиения изображения на блоки\n",
    "    :param image_w: ширина изображения\n",
    "    :param image_h: высота изображения\n",
    "    :param window_w: ширина прямоугольника\n",
    "    :param window_h: высота прямоугольника\n",
    "    :param overlap_w: перекрытие прямоугольников по горизонтали\n",
    "    :param overlap_h: перекрытие прямоугольников по вертикали\n",
    "    \"\"\"\n",
    "    rectangles = []\n",
    "    # комбинируем вертикальный и горизонтальные разрезы, чтобы получить прямоугольники\n",
    "    for xmin in cut_points(image=image_w, window=window_w, overlap=overlap_w):\n",
    "        for ymin in cut_points(image=image_h, window=window_h, overlap=overlap_h):\n",
    "            rect = Rectangle(xmin=xmin, ymin=ymin, xmax=xmin + window_w, ymax=ymin + window_h)\n",
    "            rectangles.append(rect)\n",
    "    # избавляемся от повторов\n",
    "    return list(set(rectangles))\n",
    "\n",
    "def cut_points(image: int, window: int, overlap: int) -> List[int]:\n",
    "    \"\"\"Точки разрезов изображения (направляющие)\"\"\"\n",
    "    points = []\n",
    "    offset = window - overlap\n",
    "    for v in range(0, image - window, offset):\n",
    "        points.append(v)\n",
    "    # справа и снизу остается неполный прямоугольник\n",
    "    # добавим его, отсутпив справа ширину окна и сделаем еще один разрез\n",
    "    points.append(image - window)\n",
    "    return points\n",
    "\n",
    "def count_crops(height_ori=3000, width_ori=4000, window_w: int = 416, window_h: int = 416, overlap_w: int = 150, overlap_h: int = 150):\n",
    "    rects = image_grid(image_w=width_ori, image_h=height_ori,\n",
    "                        window_w=window_w, window_h=window_w,\n",
    "                        overlap_w=overlap_w, overlap_h=overlap_h)\n",
    "    return rects"
   ]
  },
  {
   "cell_type": "code",
   "execution_count": null,
   "metadata": {},
   "outputs": [],
   "source": []
  },
  {
   "cell_type": "markdown",
   "metadata": {},
   "source": [
    "# Test performance on image 512*512\n",
    "\n",
    "## U-Net (resnet18)"
   ]
  },
  {
   "cell_type": "code",
   "execution_count": 7,
   "metadata": {
    "tags": []
   },
   "outputs": [
    {
     "name": "stdout",
     "output_type": "stream",
     "text": [
      "0:00:01.529350\n",
      "0:00:00.477358\n",
      "0:00:00.515232\n",
      "0:00:00.518919\n"
     ]
    }
   ],
   "source": [
    "model = sm.Unet(backbone_name='resnet18',\n",
    "    classes=1,\n",
    "    encoder_weights='imagenet',\n",
    "    input_shape=(512, 512, 3),\n",
    "    encoder_freeze=True)\n",
    "    \n",
    "model.compile('Adam', \n",
    "              loss=sm.losses.binary_focal_dice_loss,\n",
    "              metrics=[sm.metrics.iou_score, sm.metrics.f1_score])\n",
    "query(model)"
   ]
  },
  {
   "cell_type": "markdown",
   "metadata": {},
   "source": [
    "## U-Net (resnet34)"
   ]
  },
  {
   "cell_type": "code",
   "execution_count": 8,
   "metadata": {
    "tags": []
   },
   "outputs": [
    {
     "name": "stdout",
     "output_type": "stream",
     "text": [
      "0:00:02.173203\n",
      "0:00:00.558949\n",
      "0:00:00.599785\n",
      "0:00:00.569993\n"
     ]
    }
   ],
   "source": [
    "model = sm.Unet(backbone_name='resnet34',\n",
    "    classes=1,\n",
    "    encoder_weights='imagenet',\n",
    "    input_shape=(512, 512, 3),\n",
    "    encoder_freeze=True)\n",
    "\n",
    "model.compile('Adam', \n",
    "              loss=sm.losses.binary_focal_dice_loss,\n",
    "              metrics=[sm.metrics.iou_score, sm.metrics.f1_score])\n",
    "query(model)"
   ]
  },
  {
   "cell_type": "markdown",
   "metadata": {},
   "source": [
    "## U-Net (resnet50)"
   ]
  },
  {
   "cell_type": "code",
   "execution_count": 9,
   "metadata": {
    "tags": []
   },
   "outputs": [
    {
     "name": "stdout",
     "output_type": "stream",
     "text": [
      "0:00:03.279154\n",
      "0:00:00.973155\n",
      "0:00:00.967939\n",
      "0:00:00.890561\n"
     ]
    }
   ],
   "source": [
    "model = sm.Unet(backbone_name='resnet50',\n",
    "    classes=1,\n",
    "    encoder_weights='imagenet',\n",
    "    input_shape=(512, 512, 3),\n",
    "    encoder_freeze=True)\n",
    "\n",
    "model.compile('Adam', \n",
    "              loss=sm.losses.binary_focal_dice_loss,\n",
    "              metrics=[sm.metrics.iou_score, sm.metrics.f1_score])\n",
    "query(model)"
   ]
  },
  {
   "cell_type": "markdown",
   "metadata": {},
   "source": [
    "## U-Net (efn-B0)"
   ]
  },
  {
   "cell_type": "code",
   "execution_count": 10,
   "metadata": {
    "tags": []
   },
   "outputs": [
    {
     "name": "stdout",
     "output_type": "stream",
     "text": [
      "0:00:03.942730\n",
      "0:00:00.778575\n",
      "0:00:00.721337\n",
      "0:00:00.747951\n"
     ]
    }
   ],
   "source": [
    "model = sm.Unet(backbone_name='efficientnetb0',\n",
    "    classes=1,\n",
    "    encoder_weights='imagenet',\n",
    "    input_shape=(512, 512, 3),\n",
    "    encoder_freeze=True)\n",
    "\n",
    "model.compile('Adam', \n",
    "              loss=sm.losses.binary_focal_dice_loss,\n",
    "              metrics=[sm.metrics.iou_score, sm.metrics.f1_score])\n",
    "query(model)"
   ]
  },
  {
   "cell_type": "markdown",
   "metadata": {},
   "source": [
    "## U-Net (efn-B2)"
   ]
  },
  {
   "cell_type": "code",
   "execution_count": 11,
   "metadata": {
    "tags": []
   },
   "outputs": [
    {
     "name": "stdout",
     "output_type": "stream",
     "text": [
      "0:00:05.713695\n",
      "0:00:00.978065\n",
      "0:00:00.956792\n",
      "0:00:00.970785\n"
     ]
    }
   ],
   "source": [
    "model = sm.Unet(backbone_name='efficientnetb2',\n",
    "    classes=1,\n",
    "    encoder_weights='imagenet',\n",
    "    input_shape=(512, 512, 3),\n",
    "    encoder_freeze=True)\n",
    "\n",
    "model.compile('Adam', \n",
    "              loss=sm.losses.binary_focal_dice_loss,\n",
    "              metrics=[sm.metrics.iou_score, sm.metrics.f1_score])\n",
    "query(model)"
   ]
  },
  {
   "cell_type": "markdown",
   "metadata": {},
   "source": [
    "## U-Net (mobilenet-v1)"
   ]
  },
  {
   "cell_type": "code",
   "execution_count": 12,
   "metadata": {
    "tags": []
   },
   "outputs": [
    {
     "name": "stderr",
     "output_type": "stream",
     "text": [
      "/home/gosha20777/anaconda3/envs/tf-1-14/lib/python3.7/site-packages/keras_applications/mobilenet.py:207: UserWarning: `input_shape` is undefined or non-square, or `rows` is not in [128, 160, 192, 224]. Weights for input shape (224, 224) will be loaded as the default.\n",
      "  warnings.warn('`input_shape` is undefined or non-square, '\n"
     ]
    },
    {
     "name": "stdout",
     "output_type": "stream",
     "text": [
      "0:00:03.919622\n",
      "0:00:00.656635\n",
      "0:00:00.602401\n",
      "0:00:00.575693\n"
     ]
    }
   ],
   "source": [
    "model = sm.Unet(backbone_name='mobilenet',\n",
    "    classes=1,\n",
    "    encoder_weights='imagenet',\n",
    "    input_shape=(512, 512, 3),\n",
    "    encoder_freeze=True)\n",
    "\n",
    "model.compile('Adam', \n",
    "              loss=sm.losses.binary_focal_dice_loss,\n",
    "              metrics=[sm.metrics.iou_score, sm.metrics.f1_score])\n",
    "query(model)"
   ]
  },
  {
   "cell_type": "markdown",
   "metadata": {},
   "source": [
    "## U-Net (Custom-1)"
   ]
  },
  {
   "cell_type": "code",
   "execution_count": 13,
   "metadata": {},
   "outputs": [],
   "source": [
    "from keras import Model\n",
    "from keras.layers import Input, Dense, Concatenate, Convolution2D, MaxPooling2D, UpSampling2D, BatchNormalization\n",
    "from keras.optimizers import SGD, RMSprop, Adam\n",
    "from keras.callbacks import EarlyStopping, ReduceLROnPlateau, Callback, ModelCheckpoint\n",
    "from keras.utils import Sequence\n",
    "from keras.regularizers import l2\n",
    "\n",
    "def model1(img_rows, img_cols, optimizer, reg=0.1):\n",
    "    '''https://github.com/yihui-he/u-net'''\n",
    "    inputs = Input(shape=(img_rows, img_cols, 3))\n",
    "    bn1 = BatchNormalization()(inputs)\n",
    "    conv1 = Convolution2D(32, (3, 3), activation='relu', padding='same')(bn1)\n",
    "    conv1 = Convolution2D(32, (3, 3), activation='relu', padding='same')(conv1)\n",
    "    pool1 = MaxPooling2D(pool_size=(2, 2))(conv1)\n",
    "    conv2 = Convolution2D(64, (3, 3), activation='relu', padding='same')(pool1)\n",
    "    conv2 = Convolution2D(64, (3, 3), activation='relu', padding='same')(conv2)\n",
    "    pool2 = MaxPooling2D(pool_size=(2, 2))(conv2)\n",
    "    conv3 = Convolution2D(128, (3, 3), activation='relu', padding='same')(pool2)\n",
    "    conv3 = Convolution2D(128, (3, 3), activation='relu', padding='same')(conv3)\n",
    "    pool3 = MaxPooling2D(pool_size=(2, 2))(conv3)\n",
    "    conv4 = Convolution2D(256, (3, 3), activation='relu', padding='same')(pool3)\n",
    "    conv4 = Convolution2D(256, (3, 3), activation='relu', padding='same')(conv4)\n",
    "    pool4 = MaxPooling2D(pool_size=(2, 2))(conv4)\n",
    "    conv5 = Convolution2D(512, (3, 3), activation='elu', padding='same')(pool4)\n",
    "    conv5 = Convolution2D(512, (3, 3), activation='elu', padding='same')(conv5)\n",
    "    up6 = Concatenate()([Convolution2D(256, (2, 2), activation='relu', padding='same')(UpSampling2D(size=(2, 2))(conv5)), conv4])\n",
    "    conv6 = Convolution2D(256, (3, 3), activation='relu', padding='same')(up6)\n",
    "    conv6 = Convolution2D(256, (3, 3), activation='relu', padding='same')(conv6)\n",
    "    up7 = Concatenate()([Convolution2D(128, (2, 2),activation='relu', padding='same')(UpSampling2D(size=(2, 2))(conv6)), conv3])\n",
    "    conv7 = Convolution2D(128, (3, 3), activation='relu', padding='same')(up7)\n",
    "    conv7 = Convolution2D(128, (3, 3), activation='relu', padding='same')(conv7)\n",
    "    up8 = Concatenate()([Convolution2D(64, (2, 2),activation='relu', padding='same')(UpSampling2D(size=(2, 2))(conv7)), conv2])\n",
    "    conv8 = Convolution2D(64, (3, 3), activation='relu', padding='same')(up8)\n",
    "    conv8 = Convolution2D(64, (3, 3), activation='relu', padding='same')(conv8)\n",
    "    up9 = Concatenate()([Convolution2D(32, (2, 2),activation='relu', padding='same')(UpSampling2D(size=(2, 2))(conv8)), conv1])\n",
    "    conv9 = Convolution2D(32, (3, 3), activation='relu', padding='same')(up9)\n",
    "    conv9 = Convolution2D(32, (3, 3), activation='relu', padding='same')(conv9)\n",
    "    bn = BatchNormalization()(conv9)    \n",
    "    conv10 = Convolution2D(1, (1, 1), activation='sigmoid')(bn)\n",
    "    model = Model(inputs=inputs, outputs=conv10)\n",
    "    for layer in range(len(model.layers)):\n",
    "        model.layers[layer].kernel_regularizer=l2(reg)\n",
    "        model.layers[layer].bias_regularizer=l2(reg)\n",
    "    \n",
    "    model.compile(optimizer=optimizer, loss='mse', metrics=['mse'])\n",
    "\n",
    "    print('U-Net compiled,  batch_norm1=True, batch_norm10=True, 4 skips.')\n",
    "    print('Input shape:', model.input_shape)\n",
    "    print('Output shape:', model.output_shape)\n",
    "    return model"
   ]
  },
  {
   "cell_type": "code",
   "execution_count": 14,
   "metadata": {
    "tags": []
   },
   "outputs": [
    {
     "name": "stdout",
     "output_type": "stream",
     "text": [
      "U-Net compiled,  batch_norm1=True, batch_norm10=True, 4 skips.\n",
      "Input shape: (None, 512, 512, 3)\n",
      "Output shape: (None, 512, 512, 1)\n",
      "0:00:03.602837\n",
      "0:00:00.623623\n",
      "0:00:00.623829\n",
      "0:00:00.640058\n"
     ]
    }
   ],
   "source": [
    "model = model1(512, 512, optimizer=Adam(learning_rate=1e-3))\n",
    "query(model)"
   ]
  },
  {
   "cell_type": "markdown",
   "metadata": {},
   "source": [
    "## Linknet (resnet18)"
   ]
  },
  {
   "cell_type": "code",
   "execution_count": 5,
   "metadata": {},
   "outputs": [
    {
     "name": "stdout",
     "output_type": "stream",
     "text": [
      "WARNING:tensorflow:From /home/gosha20777/anaconda3/envs/tf-1-14/lib/python3.7/site-packages/tensorflow/python/ops/init_ops.py:1251: calling VarianceScaling.__init__ (from tensorflow.python.ops.init_ops) with dtype is deprecated and will be removed in a future version.\n",
      "Instructions for updating:\n",
      "Call initializer instance with the dtype argument instead of passing it to the constructor\n",
      "0:00:01.227597\n",
      "0:00:00.246398\n",
      "0:00:00.254326\n",
      "0:00:00.257347\n"
     ]
    }
   ],
   "source": [
    "model = sm.Linknet(backbone_name='resnet18',\n",
    "    classes=1,\n",
    "    encoder_weights='imagenet',\n",
    "    input_shape=(None, None, 3),\n",
    "    encoder_freeze=True)\n",
    "\n",
    "model.compile('Adam', \n",
    "              loss=sm.losses.binary_focal_dice_loss,\n",
    "              metrics=[sm.metrics.iou_score, sm.metrics.f1_score])\n",
    "query(model)"
   ]
  },
  {
   "cell_type": "markdown",
   "metadata": {},
   "source": [
    "### Convert to tflite"
   ]
  },
  {
   "cell_type": "code",
   "execution_count": 20,
   "metadata": {},
   "outputs": [
    {
     "name": "stdout",
     "output_type": "stream",
     "text": [
      "INFO:tensorflow:Assets written to: /tmp/tmp5tw66lel/assets\n"
     ]
    },
    {
     "name": "stderr",
     "output_type": "stream",
     "text": [
      "INFO:tensorflow:Assets written to: /tmp/tmp5tw66lel/assets\n"
     ]
    }
   ],
   "source": [
    "converter = tf.lite.TFLiteConverter.from_keras_model(model)\n",
    "converter.target_spec.supported_ops = [\n",
    "    tf.lite.OpsSet.TFLITE_BUILTINS,\n",
    "    tf.lite.OpsSet.SELECT_TF_OPS\n",
    "]\n",
    "tflite = converter.convert()\n",
    "\n",
    "with open(\"Linknet.tflite\",\"wb\") as h:\n",
    "    h.write(tflite)"
   ]
  },
  {
   "cell_type": "markdown",
   "metadata": {},
   "source": [
    "### int8 quanitization"
   ]
  },
  {
   "cell_type": "code",
   "execution_count": 22,
   "metadata": {},
   "outputs": [
    {
     "name": "stdout",
     "output_type": "stream",
     "text": [
      "INFO:tensorflow:Assets written to: /tmp/tmpqst0_2xg/assets\n"
     ]
    },
    {
     "name": "stderr",
     "output_type": "stream",
     "text": [
      "INFO:tensorflow:Assets written to: /tmp/tmpqst0_2xg/assets\n"
     ]
    },
    {
     "name": "stdout",
     "output_type": "stream",
     "text": [
      "calibration image test_data/img/1/146___p04982.jpg\n",
      "calibration image test_data/img/1/256___p04096.jpg\n",
      "calibration image test_data/img/1/77___n00110.jpg\n",
      "calibration image test_data/img/1/50___p00978.jpg\n",
      "calibration image test_data/img/1/32___n00341.jpg\n",
      "calibration image test_data/img/1/18___n02883.jpg\n",
      "calibration image test_data/img/1/329___p03688.jpg\n",
      "calibration image test_data/img/1/46___p05597.jpg\n",
      "calibration image test_data/img/1/296___p05680.jpg\n",
      "calibration image test_data/img/1/385___p04509.jpg\n"
     ]
    }
   ],
   "source": [
    "from keras_retinanet.utils.image import read_image_bgr, preprocess_image, resize_image\n",
    "def representative_data_gen():\n",
    "    fimage = glob.glob('test_data/img/1/*.jpg')\n",
    "    for input_value in range(10):\n",
    "        if os.path.exists(fimage[input_value]):\n",
    "            original_image=cv2.imread(fimage[input_value])\n",
    "            image_data = cv2.resize(original_image, (512,512))\n",
    "            image_data = preprocess_image(image_data)\n",
    "            img_in = image_data[np.newaxis, ...].astype(np.float32)\n",
    "            print(\"calibration image {}\".format(fimage[input_value]))\n",
    "            yield [img_in]\n",
    "        else:\n",
    "            continue\n",
    "            \n",
    "\n",
    "converter = tf.lite.TFLiteConverter.from_keras_model(model)\n",
    "\n",
    "#converter.target_spec.supported_ops = [tf.lite.OpsSet.TFLITE_BUILTINS_INT8]\n",
    "#converter.optimizations = [tf.lite.Optimize.DEFAULT]\n",
    "#converter.target_spec.supported_ops = [\n",
    "#    tf.lite.OpsSet.TFLITE_BUILTINS,\n",
    "#    tf.lite.OpsSet.SELECT_TF_OPS\n",
    "#]\n",
    "#converter.allow_custom_ops = True\n",
    "#converter.representative_dataset = representative_data_gen\n",
    "\n",
    "converter.optimizations = [tf.lite.Optimize.DEFAULT]\n",
    "converter.representative_dataset = representative_data_gen\n",
    "converter.target_spec.supported_ops = [tf.lite.OpsSet.TFLITE_BUILTINS_INT8]\n",
    "converter.inference_input_type = tf.int8  # or tf.uint8\n",
    "converter.inference_output_type = tf.int8  # or tf.uint8\n",
    "\n",
    "tflite = converter.convert()\n",
    "\n",
    "with open(\"model_int8.tflite\",\"wb\") as h:\n",
    "    h.write(tflite)"
   ]
  },
  {
   "cell_type": "markdown",
   "metadata": {},
   "source": [
    "### Inference"
   ]
  },
  {
   "cell_type": "code",
   "execution_count": 23,
   "metadata": {},
   "outputs": [
    {
     "name": "stdout",
     "output_type": "stream",
     "text": [
      "[{'name': 'data', 'index': 0, 'shape': array([  1, 512, 512,   3], dtype=int32), 'shape_signature': array([ -1, 512, 512,   3], dtype=int32), 'dtype': <class 'numpy.int8'>, 'quantization': (1.006827473640442, -23), 'quantization_parameters': {'scales': array([1.0068275], dtype=float32), 'zero_points': array([-23], dtype=int32), 'quantized_dimension': 0}, 'sparsity_parameters': {}}]\n",
      "[{'name': 'Identity', 'index': 187, 'shape': array([1, 1, 1, 1], dtype=int32), 'shape_signature': array([-1, -1, -1,  1], dtype=int32), 'dtype': <class 'numpy.int8'>, 'quantization': (0.00390625, -128), 'quantization_parameters': {'scales': array([0.00390625], dtype=float32), 'zero_points': array([-128], dtype=int32), 'quantized_dimension': 0}, 'sparsity_parameters': {}}]\n"
     ]
    }
   ],
   "source": [
    "interpreter = tf.lite.Interpreter(model_path='model_int8.tflite')\n",
    "input_details = interpreter.get_input_details()\n",
    "output_details = interpreter.get_output_details()\n",
    "print(input_details)\n",
    "print(output_details)"
   ]
  },
  {
   "cell_type": "code",
   "execution_count": 24,
   "metadata": {},
   "outputs": [],
   "source": [
    "original_image = cv2.imread('test_data/img/1/0___n04759.jpg')\n",
    "image_data = cv2.resize(original_image, (512,512))\n",
    "image_data = preprocess_image(image_data)\n",
    "#image_data = image_data / 255.\n",
    "image_data = np.expand_dims(image_data, axis=0)\n",
    "interpreter.allocate_tensors()"
   ]
  },
  {
   "cell_type": "code",
   "execution_count": 26,
   "metadata": {},
   "outputs": [
    {
     "name": "stdout",
     "output_type": "stream",
     "text": [
      "0:00:24.419191\n"
     ]
    }
   ],
   "source": [
    "def set_input_tensor(interpreter, input):\n",
    "    input_details = interpreter.get_input_details()[0]\n",
    "    tensor_index = input_details['index']\n",
    "    input_tensor = interpreter.tensor(tensor_index)()[0]\n",
    "    # Inputs for the TFLite model must be uint8, so we quantize our input data.\n",
    "    # NOTE: This step is necessary only because we're receiving input data from\n",
    "    # ImageDataGenerator, which rescaled all image data to float [0,1]. When using\n",
    "    # bitmap inputs, they're already uint8 [0,255] so this can be replaced with:\n",
    "    #   input_tensor[:, :] = input\n",
    "    scale, zero_point = input_details['quantization']\n",
    "    input_tensor[:, :] = np.uint8(input / scale + zero_point)\n",
    "\n",
    "start = datetime.now()\n",
    "set_input_tensor(interpreter, image_data)\n",
    "#interpreter.set_tensor(input_details[0]['index'], image_data)\n",
    "interpreter.invoke()\n",
    "pred = [interpreter.get_tensor(output_details[i]['index']) for i in range(len(output_details))]\n",
    "end = datetime.now()\n",
    "print(end - start)"
   ]
  },
  {
   "cell_type": "markdown",
   "metadata": {},
   "source": [
    "### OpenVino"
   ]
  },
  {
   "cell_type": "code",
   "execution_count": 7,
   "metadata": {},
   "outputs": [],
   "source": [
    "model.save('linknet_resnet_18.h5')"
   ]
  },
  {
   "cell_type": "code",
   "execution_count": 9,
   "metadata": {},
   "outputs": [
    {
     "name": "stdout",
     "output_type": "stream",
     "text": [
      "INFO:tensorflow:Froze 519 variables.\n",
      "INFO:tensorflow:Converted 519 variables to const ops.\n",
      "weights saved!\n"
     ]
    }
   ],
   "source": [
    "from tensorflow.keras import backend as K\n",
    "\n",
    "def freeze_session(session, keep_var_names=None, output_names=None, clear_devices=True):\n",
    "    graph = session.graph\n",
    "    with graph.as_default():\n",
    "        freeze_var_names = list(set(v.op.name for v in tf.global_variables()).difference(keep_var_names or []))\n",
    "        output_names = output_names or []\n",
    "        output_names += [v.op.name for v in tf.global_variables()]\n",
    "        input_graph_def = graph.as_graph_def()\n",
    "        if clear_devices:\n",
    "            for node in input_graph_def.node:\n",
    "                node.device = \"\"\n",
    "        frozen_graph = tf.graph_util.convert_variables_to_constants(\n",
    "            session, input_graph_def, output_names, freeze_var_names)\n",
    "        return frozen_graph\n",
    "\n",
    "K.set_learning_phase(0)    \n",
    "    \n",
    "weights_name = 'linknet_resnet_18.h5'\n",
    "\n",
    "model = sm.Linknet(backbone_name='resnet18',\n",
    "    classes=1,\n",
    "    encoder_weights='imagenet',\n",
    "    input_shape=(512, 512, 3),\n",
    "    encoder_freeze=True)\n",
    "\n",
    "model.load_weights(weights_name)\n",
    "frozen_graph = freeze_session(K.get_session(), output_names=[out.op.name for out in model.outputs])\n",
    "tf.train.write_graph(frozen_graph, '.', 'linknet_resnet_18.pb', as_text=False)\n",
    "print(f'weights saved!')"
   ]
  },
  {
   "cell_type": "code",
   "execution_count": 16,
   "metadata": {},
   "outputs": [
    {
     "name": "stdout",
     "output_type": "stream",
     "text": [
      "[setupvars.sh] OpenVINO environment initialized\n",
      "initialize OpenVino...\n",
      "[E:] [BSL] found 0 ioexpander device\n",
      "\u001b[35mE: [xLinkUsb] [    850384] [python3] usb_find_device_with_bcd:265\tLibrary has not been initialized when loaded\u001b[0m\n",
      "available devices:  ['CPU', 'GNA']\n",
      "loading model...\n",
      "inference_openvino.py:86: DeprecationWarning: Reading network using constructor is deprecated. Please, use IECore.read_network() method instead\n",
      "  net = IENetwork(model=model_xml, weights=model_bin)\n",
      "inference_openvino.py:93: DeprecationWarning: 'inputs' property of IENetwork class is deprecated. To access DataPtrs user need to use 'input_data' property of InputInfoPtr objects which can be accessed by 'input_info' property.\n",
      "  _, _, h, w = net.inputs[input_blob].shape\n",
      "model input shape: [1, 3, 416, 416]\n",
      "make 4 predictions:\n",
      "\t0.046399593353271484 s\n",
      "\t0.04608607292175293 s\n",
      "\t0.04748845100402832 s\n",
      "\t0.0509800910949707 s\n"
     ]
    }
   ],
   "source": [
    "!docker run -it --rm -v `pwd`:/lacmus --workdir /lacmus/ openvino/ubuntu18_dev:latest \\\n",
    "    bash -c \"source /opt/intel/openvino_2020.4.287/bin/setupvars.sh && python3 inference_openvino.py --bin linknet_resnet_18_416.bin --xml linknet_resnet_18_416.xml --img test_data/img/1/0___n04761.jpg\""
   ]
  },
  {
   "cell_type": "code",
   "execution_count": 17,
   "metadata": {},
   "outputs": [
    {
     "name": "stdout",
     "output_type": "stream",
     "text": [
      "[setupvars.sh] OpenVINO environment initialized\n",
      "initialize OpenVino...\n",
      "[E:] [BSL] found 0 ioexpander device\n",
      "\u001b[35mE: [xLinkUsb] [    893910] [python3] usb_find_device_with_bcd:265\tLibrary has not been initialized when loaded\u001b[0m\n",
      "available devices:  ['CPU', 'GNA']\n",
      "loading model...\n",
      "inference_openvino.py:86: DeprecationWarning: Reading network using constructor is deprecated. Please, use IECore.read_network() method instead\n",
      "  net = IENetwork(model=model_xml, weights=model_bin)\n",
      "inference_openvino.py:93: DeprecationWarning: 'inputs' property of IENetwork class is deprecated. To access DataPtrs user need to use 'input_data' property of InputInfoPtr objects which can be accessed by 'input_info' property.\n",
      "  _, _, h, w = net.inputs[input_blob].shape\n",
      "model input shape: [1, 3, 512, 512]\n",
      "make 4 predictions:\n",
      "\t0.07027435302734375 s\n",
      "\t0.07549619674682617 s\n",
      "\t0.06219816207885742 s\n",
      "\t0.07791805267333984 s\n"
     ]
    }
   ],
   "source": [
    "!docker run -it --rm -v `pwd`:/lacmus --workdir /lacmus/ openvino/ubuntu18_dev:latest \\\n",
    "    bash -c \"source /opt/intel/openvino_2020.4.287/bin/setupvars.sh && python3 inference_openvino.py --bin linknet_resnet_18_512.bin --xml linknet_resnet_18_512.xml --img test_data/img/1/0___n04761.jpg\""
   ]
  },
  {
   "cell_type": "code",
   "execution_count": 22,
   "metadata": {},
   "outputs": [
    {
     "name": "stdout",
     "output_type": "stream",
     "text": [
      "[setupvars.sh] OpenVINO environment initialized\n",
      "initialize OpenVino...\n",
      "[E:] [BSL] found 0 ioexpander device\n",
      "\u001b[35mE: [xLinkUsb] [    504376] [python3] usb_find_device_with_bcd:265\tLibrary has not been initialized when loaded\u001b[0m\n",
      "available devices:  ['CPU', 'GNA']\n",
      "loading model...\n",
      "inference_openvino.py:86: DeprecationWarning: Reading network using constructor is deprecated. Please, use IECore.read_network() method instead\n",
      "  net = IENetwork(model=model_xml, weights=model_bin)\n",
      "inference_openvino.py:93: DeprecationWarning: 'inputs' property of IENetwork class is deprecated. To access DataPtrs user need to use 'input_data' property of InputInfoPtr objects which can be accessed by 'input_info' property.\n",
      "  _, _, h, w = net.inputs[input_blob].shape\n",
      "model input shape: [1, 3, 608, 608]\n",
      "make 4 predictions:\n",
      "\t0.10514974594116211 s\n",
      "\t0.10730624198913574 s\n",
      "\t0.10131478309631348 s\n",
      "\t0.10210633277893066 s\n"
     ]
    }
   ],
   "source": [
    "!docker run -it --rm -v `pwd`:/lacmus --workdir /lacmus/ openvino/ubuntu18_dev:latest \\\n",
    "    bash -c \"source /opt/intel/openvino_2020.4.287/bin/setupvars.sh && python3 inference_openvino.py --bin linknet_resnet_18_608.bin --xml linknet_resnet_18_608.xml --img test_data/img/1/0___n04761.jpg\""
   ]
  },
  {
   "cell_type": "code",
   "execution_count": 34,
   "metadata": {},
   "outputs": [
    {
     "name": "stdout",
     "output_type": "stream",
     "text": [
      "[setupvars.sh] OpenVINO environment initialized\n",
      "initialize OpenVino...\n",
      "[E:] [BSL] found 0 ioexpander device\n",
      "\u001b[35mE: [xLinkUsb] [    240756] [python3] usb_find_device_with_bcd:265\tLibrary has not been initialized when loaded\u001b[0m\n",
      "available devices:  ['CPU', 'GNA']\n",
      "loading model...\n",
      "inference_openvino.py:86: DeprecationWarning: Reading network using constructor is deprecated. Please, use IECore.read_network() method instead\n",
      "  net = IENetwork(model=model_xml, weights=model_bin)\n",
      "inference_openvino.py:93: DeprecationWarning: 'inputs' property of IENetwork class is deprecated. To access DataPtrs user need to use 'input_data' property of InputInfoPtr objects which can be accessed by 'input_info' property.\n",
      "  _, _, h, w = net.inputs[input_blob].shape\n",
      "model input shape: [1, 3, 704, 704]\n",
      "make 4 predictions:\n",
      "\t0.13303542137145996 s\n",
      "\t0.12978386878967285 s\n",
      "\t0.12861371040344238 s\n",
      "\t0.12896370887756348 s\n"
     ]
    }
   ],
   "source": [
    "!docker run -it --rm -v `pwd`:/lacmus --workdir /lacmus/ openvino/ubuntu18_dev:latest \\\n",
    "    bash -c \"source /opt/intel/openvino_2020.4.287/bin/setupvars.sh && python3 inference_openvino.py --bin linknet_resnet_18_704.bin --xml linknet_resnet_18_704.xml --img test_data/img/1/0___n04761.jpg\""
   ]
  },
  {
   "cell_type": "code",
   "execution_count": 18,
   "metadata": {},
   "outputs": [
    {
     "name": "stdout",
     "output_type": "stream",
     "text": [
      "[setupvars.sh] OpenVINO environment initialized\n",
      "initialize OpenVino...\n",
      "[E:] [BSL] found 0 ioexpander device\n",
      "\u001b[35mE: [xLinkUsb] [    925243] [python3] usb_find_device_with_bcd:265\tLibrary has not been initialized when loaded\u001b[0m\n",
      "available devices:  ['CPU', 'GNA']\n",
      "loading model...\n",
      "inference_openvino.py:86: DeprecationWarning: Reading network using constructor is deprecated. Please, use IECore.read_network() method instead\n",
      "  net = IENetwork(model=model_xml, weights=model_bin)\n",
      "inference_openvino.py:93: DeprecationWarning: 'inputs' property of IENetwork class is deprecated. To access DataPtrs user need to use 'input_data' property of InputInfoPtr objects which can be accessed by 'input_info' property.\n",
      "  _, _, h, w = net.inputs[input_blob].shape\n",
      "model input shape: [1, 3, 800, 800]\n",
      "make 4 predictions:\n",
      "\t0.16902804374694824 s\n",
      "\t0.16206574440002441 s\n",
      "\t0.16184186935424805 s\n",
      "\t0.16449570655822754 s\n"
     ]
    }
   ],
   "source": [
    "!docker run -it --rm -v `pwd`:/lacmus --workdir /lacmus/ openvino/ubuntu18_dev:latest \\\n",
    "    bash -c \"source /opt/intel/openvino_2020.4.287/bin/setupvars.sh && python3 inference_openvino.py --bin linknet_resnet_18_800.bin --xml linknet_resnet_18_800.xml --img test_data/img/1/0___n04761.jpg\""
   ]
  },
  {
   "cell_type": "code",
   "execution_count": 19,
   "metadata": {},
   "outputs": [
    {
     "name": "stdout",
     "output_type": "stream",
     "text": [
      "[setupvars.sh] OpenVINO environment initialized\n",
      "initialize OpenVino...\n",
      "[E:] [BSL] found 0 ioexpander device\n",
      "\u001b[35mE: [xLinkUsb] [    961720] [python3] usb_find_device_with_bcd:265\tLibrary has not been initialized when loaded\u001b[0m\n",
      "available devices:  ['CPU', 'GNA']\n",
      "loading model...\n",
      "inference_openvino.py:86: DeprecationWarning: Reading network using constructor is deprecated. Please, use IECore.read_network() method instead\n",
      "  net = IENetwork(model=model_xml, weights=model_bin)\n",
      "inference_openvino.py:93: DeprecationWarning: 'inputs' property of IENetwork class is deprecated. To access DataPtrs user need to use 'input_data' property of InputInfoPtr objects which can be accessed by 'input_info' property.\n",
      "  _, _, h, w = net.inputs[input_blob].shape\n",
      "model input shape: [1, 3, 1024, 1024]\n",
      "make 4 predictions:\n",
      "\t0.2740461826324463 s\n",
      "\t0.2689168453216553 s\n",
      "\t0.2706468105316162 s\n",
      "\t0.2675347328186035 s\n"
     ]
    }
   ],
   "source": [
    "!docker run -it --rm -v `pwd`:/lacmus --workdir /lacmus/ openvino/ubuntu18_dev:latest \\\n",
    "    bash -c \"source /opt/intel/openvino_2020.4.287/bin/setupvars.sh && python3 inference_openvino.py --bin linknet_resnet_18_1024.bin --xml linknet_resnet_18_1024.xml --img test_data/img/1/0___n04761.jpg\""
   ]
  },
  {
   "cell_type": "code",
   "execution_count": 35,
   "metadata": {},
   "outputs": [
    {
     "data": {
      "text/plain": [
       "[<matplotlib.lines.Line2D at 0x7f516437cb50>]"
      ]
     },
     "execution_count": 35,
     "metadata": {},
     "output_type": "execute_result"
    },
    {
     "data": {
      "image/png": "[encoded data removed]",
      "text/plain": [
       "<Figure size 432x288 with 1 Axes>"
      ]
     },
     "metadata": {
      "needs_background": "light"
     },
     "output_type": "display_data"
    }
   ],
   "source": [
    "x = [416, 512, 608, 704, 800, 1024]\n",
    "y = [0.047, 0.071, 0.103, 0.129, 0.164, 0.265]\n",
    "plt.plot(x, y, marker=\"o\", c=\"g\")"
   ]
  },
  {
   "cell_type": "code",
   "execution_count": 36,
   "metadata": {},
   "outputs": [],
   "source": [
    "count_416_full = len(count_crops(height_ori=3000, width_ori=4000,\n",
    "                             window_w=416, window_h=416))\n",
    "count_416_half = len(count_crops(height_ori=1500, width_ori=2000,\n",
    "                             window_w=416, window_h=416))\n",
    "count_512_full = len(count_crops(height_ori=3000, width_ori=4000,\n",
    "                             window_w=512, window_h=512))\n",
    "count_512_half = len(count_crops(height_ori=1500, width_ori=2000,\n",
    "                             window_w=512, window_h=512))\n",
    "count_608_full = len(count_crops(height_ori=3000, width_ori=4000,\n",
    "                             window_w=608, window_h=608))\n",
    "count_608_half = len(count_crops(height_ori=1500, width_ori=2000,\n",
    "                             window_w=608, window_h=608))\n",
    "count_704_full = len(count_crops(height_ori=3000, width_ori=4000,\n",
    "                             window_w=704, window_h=704))\n",
    "count_704_half = len(count_crops(height_ori=1500, width_ori=2000,\n",
    "                             window_w=704, window_h=704))\n",
    "count_800_full = len(count_crops(height_ori=3000, width_ori=4000,\n",
    "                             window_w=800, window_h=800))\n",
    "count_800_half = len(count_crops(height_ori=1500, width_ori=2000,\n",
    "                             window_w=800, window_h=800))\n",
    "count_1024_full = len(count_crops(height_ori=3000, width_ori=4000,\n",
    "                             window_w=1024, window_h=1024))\n",
    "count_1024_half = len(count_crops(height_ori=1500, width_ori=2000,\n",
    "                             window_w=1024, window_h=1024))"
   ]
  },
  {
   "cell_type": "code",
   "execution_count": 38,
   "metadata": {},
   "outputs": [
    {
     "data": {
      "text/plain": [
       "[<matplotlib.lines.Line2D at 0x7f5164336950>]"
      ]
     },
     "execution_count": 38,
     "metadata": {},
     "output_type": "execute_result"
    },
    {
     "data": {
      "image/png": "[encoded data removed]",
      "text/plain": [
       "<Figure size 432x288 with 1 Axes>"
      ]
     },
     "metadata": {
      "needs_background": "light"
     },
     "output_type": "display_data"
    }
   ],
   "source": [
    "x = [416, 512, 608, 704, 800, 1024]\n",
    "y = [0.047*count_416_full,\n",
    "     0.071*count_512_full,\n",
    "     0.103*count_608_full,\n",
    "     0.129*count_704_full,\n",
    "     0.164*count_800_full,\n",
    "     0.265*count_1024_full]\n",
    "\n",
    "plt.plot(x, y, marker=\"o\", c=\"r\")"
   ]
  },
  {
   "cell_type": "code",
   "execution_count": 39,
   "metadata": {},
   "outputs": [
    {
     "data": {
      "text/plain": [
       "[<matplotlib.lines.Line2D at 0x7f51642a1950>]"
      ]
     },
     "execution_count": 39,
     "metadata": {},
     "output_type": "execute_result"
    },
    {
     "data": {
      "image/png": "[encoded data removed]",
      "text/plain": [
       "<Figure size 432x288 with 1 Axes>"
      ]
     },
     "metadata": {
      "needs_background": "light"
     },
     "output_type": "display_data"
    }
   ],
   "source": [
    "x = [416, 512, 608, 704, 800, 1024]\n",
    "y = [0.047*count_416_half,\n",
    "     0.071*count_512_half,\n",
    "     0.103*count_608_half,\n",
    "     0.129*count_704_half,\n",
    "     0.164*count_800_half,\n",
    "     0.265*count_1024_half]\n",
    "\n",
    "plt.plot(x, y, marker=\"o\", c=\"b\")"
   ]
  },
  {
   "cell_type": "code",
   "execution_count": 42,
   "metadata": {},
   "outputs": [
    {
     "name": "stdout",
     "output_type": "stream",
     "text": [
      "0.328s vs 1s\n"
     ]
    }
   ],
   "source": [
    "time = len(count_crops(height_ori=1333, width_ori=800,\n",
    "                             window_w=800, window_h=800))*0.164\n",
    "print(f'{time}s vs 1s')"
   ]
  },
  {
   "cell_type": "markdown",
   "metadata": {},
   "source": [
    "### Keras-Retinanet (resnet-50)"
   ]
  },
  {
   "cell_type": "code",
   "execution_count": 15,
   "metadata": {},
   "outputs": [
    {
     "name": "stdout",
     "output_type": "stream",
     "text": [
      "tracking <tf.Variable 'Variable_5:0' shape=(9, 4) dtype=float32> anchors\n",
      "tracking <tf.Variable 'Variable_6:0' shape=(9, 4) dtype=float32> anchors\n",
      "tracking <tf.Variable 'Variable_7:0' shape=(9, 4) dtype=float32> anchors\n",
      "tracking <tf.Variable 'Variable_8:0' shape=(9, 4) dtype=float32> anchors\n",
      "tracking <tf.Variable 'Variable_9:0' shape=(9, 4) dtype=float32> anchors\n",
      "indices.shape[-1]: 1 <= params.rank: 2 and shape (?, 4)\n",
      "indices.shape[-1]: 1 <= params.rank: 1 and shape (?,)\n",
      "indices.shape[-1]: 2 <= params.rank: 2 and shape (?, 1)\n",
      "0:00:03.942450\n",
      "0:00:00.347900\n",
      "0:00:00.343302\n",
      "0:00:00.356467\n"
     ]
    }
   ],
   "source": [
    "from keras_retinanet import models\n",
    "\n",
    "def create_model(backbone_name, num_classes=1):\n",
    "    backbone_factory = models.backbone(backbone_name)\n",
    "    model = backbone_factory.retinanet(num_classes)\n",
    "    return models.convert_model(model)\n",
    "\n",
    "backbone = 'resnet50'\n",
    "model = create_model(backbone)\n",
    "query(model)"
   ]
  },
  {
   "cell_type": "code",
   "execution_count": 21,
   "metadata": {
    "scrolled": true
   },
   "outputs": [
    {
     "name": "stdout",
     "output_type": "stream",
     "text": [
      "tracking <tf.Variable 'Variable_10:0' shape=(9, 4) dtype=float32> anchors\n",
      "tracking <tf.Variable 'Variable_11:0' shape=(9, 4) dtype=float32> anchors\n",
      "tracking <tf.Variable 'Variable_12:0' shape=(9, 4) dtype=float32> anchors\n",
      "tracking <tf.Variable 'Variable_13:0' shape=(9, 4) dtype=float32> anchors\n",
      "tracking <tf.Variable 'Variable_14:0' shape=(9, 4) dtype=float32> anchors\n",
      "indices.shape[-1]: 1 <= params.rank: 2 and shape (?, 4)\n",
      "indices.shape[-1]: 1 <= params.rank: 1 and shape (?,)\n",
      "indices.shape[-1]: 2 <= params.rank: 2 and shape (?, 1)\n",
      "0:00:07.703907\n",
      "0:00:00.541582\n",
      "0:00:00.542402\n",
      "0:00:00.551486\n"
     ]
    }
   ],
   "source": [
    "backbone = 'EfficientNetB0'\n",
    "model = create_model(backbone)\n",
    "query(model)"
   ]
  },
  {
   "cell_type": "markdown",
   "metadata": {},
   "source": [
    "### Keras-Retinanet (mobilenet)"
   ]
  },
  {
   "cell_type": "code",
   "execution_count": 16,
   "metadata": {},
   "outputs": [
    {
     "name": "stdout",
     "output_type": "stream",
     "text": [
      "tracking <tf.Variable 'Variable_10:0' shape=(9, 4) dtype=float32> anchors\n",
      "tracking <tf.Variable 'Variable_11:0' shape=(9, 4) dtype=float32> anchors\n",
      "tracking <tf.Variable 'Variable_12:0' shape=(9, 4) dtype=float32> anchors\n",
      "tracking <tf.Variable 'Variable_13:0' shape=(9, 4) dtype=float32> anchors\n",
      "tracking <tf.Variable 'Variable_14:0' shape=(9, 4) dtype=float32> anchors\n",
      "indices.shape[-1]: 1 <= params.rank: 2 and shape (?, 4)\n",
      "indices.shape[-1]: 1 <= params.rank: 1 and shape (?,)\n",
      "indices.shape[-1]: 2 <= params.rank: 2 and shape (?, 1)\n",
      "0:00:03.493817\n",
      "0:00:00.174082\n",
      "0:00:00.245533\n",
      "0:00:00.190339\n"
     ]
    }
   ],
   "source": [
    "backbone = 'mobilenet224_0.1'\n",
    "model = create_model(backbone)\n",
    "query(model)"
   ]
  },
  {
   "cell_type": "markdown",
   "metadata": {},
   "source": [
    "### YOLO 4-tf (416*416)"
   ]
  },
  {
   "cell_type": "code",
   "execution_count": 15,
   "metadata": {},
   "outputs": [
    {
     "name": "stdout",
     "output_type": "stream",
     "text": [
      "0:00:00.658849\n",
      "0:00:00.255762\n",
      "0:00:00.254708\n",
      "0:00:00.265157\n"
     ]
    }
   ],
   "source": [
    "!cd ../tensorflow-yolov4-tflite && \\\n",
    "   python detect.py --weights ./checkpoints/yolov4-416 \\\n",
    "   --size 416 --model yolov4 \\\n",
    "   --image ../lacmus-research/test_data/img/1/0___n04759.jpg"
   ]
  },
  {
   "cell_type": "markdown",
   "metadata": {},
   "source": [
    "### YOLO 4-tf-tiny (416*416)"
   ]
  },
  {
   "cell_type": "code",
   "execution_count": 17,
   "metadata": {},
   "outputs": [
    {
     "name": "stdout",
     "output_type": "stream",
     "text": [
      "0:00:00.142459\n",
      "0:00:00.025333\n",
      "0:00:00.028778\n",
      "0:00:00.026272\n"
     ]
    }
   ],
   "source": [
    "!cd ../tensorflow-yolov4-tflite && \\\n",
    "   python detect.py --weights ./checkpoints/yolov4-tiny-416 \\\n",
    "   --size 416 --model yolov4 \\\n",
    "   --image ../lacmus-research/test_data/img/1/0___n04759.jpg --tiny"
   ]
  },
  {
   "cell_type": "code",
   "execution_count": null,
   "metadata": {},
   "outputs": [],
   "source": []
  }
 ],
 "metadata": {
  "kernelspec": {
   "display_name": "Python 3",
   "language": "python",
   "name": "python3"
  },
  "language_info": {
   "codemirror_mode": {
    "name": "ipython",
    "version": 3
   },
   "file_extension": ".py",
   "mimetype": "text/x-python",
   "name": "python",
   "nbconvert_exporter": "python",
   "pygments_lexer": "ipython3",
   "version": "3.7.9"
  }
 },
 "nbformat": 4,
 "nbformat_minor": 2
}
