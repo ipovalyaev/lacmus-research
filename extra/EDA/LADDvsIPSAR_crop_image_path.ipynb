{
 "cells": [
  {
   "cell_type": "code",
   "execution_count": 17,
   "id": "a6ffd37b-bfb4-4aa1-823f-a09f968793e1",
   "metadata": {},
   "outputs": [],
   "source": [
    "import os\n",
    "import cv2\n",
    "import math\n",
    "import itertools"
   ]
  },
  {
   "cell_type": "code",
   "execution_count": 18,
   "id": "b7e7460a-3e57-461f-85a8-4da1a67b24ac",
   "metadata": {},
   "outputs": [],
   "source": [
    "path = '../../../ladd-and-weights/dataset/unmarked/test_crops'"
   ]
  },
  {
   "cell_type": "code",
   "execution_count": 19,
   "id": "7cbb519e",
   "metadata": {},
   "outputs": [],
   "source": [
    "CROP_SIZE = 608\n",
    "MIN_OVERLAR = 100"
   ]
  },
  {
   "cell_type": "code",
   "execution_count": 20,
   "id": "28047da5",
   "metadata": {},
   "outputs": [],
   "source": [
    "def get_crops(shape,crop_size=CROP_SIZE,min_overlap=MIN_OVERLAR):\n",
    "    width = shape[1]\n",
    "    height = shape[0]\n",
    "    x_number = math.ceil(width/(crop_size-min_overlap))\n",
    "    y_number = math.ceil(height/(crop_size-min_overlap))\n",
    "    (x_shift,y_shift) = (0,0)\n",
    "    if x_number > 1:\n",
    "        x_shift = (width-crop_size)/(x_number-1)\n",
    "    if y_number > 1:\n",
    "        y_shift = (height-crop_size)/(y_number-1)\n",
    "\n",
    "    crops = []\n",
    "    for (x_c,y_c) in itertools.product(range(x_number),range(y_number)):\n",
    "        x_left = round(x_shift*x_c)\n",
    "        x_right = x_left+crop_size\n",
    "        y_top = round(y_shift*y_c)\n",
    "        y_bottom = y_top+crop_size\n",
    "        crops.append([x_left,y_top,x_right,y_bottom])\n",
    "    return crops\n",
    "        "
   ]
  },
  {
   "cell_type": "code",
   "execution_count": 21,
   "id": "40741689",
   "metadata": {},
   "outputs": [],
   "source": [
    "def process_file(path: str,file_name:str):\n",
    "    print(file_name)\n",
    "    original = cv2.imread(os.path.join(path,file_name))\n",
    "    crops_xyxy = get_crops(original.shape)\n",
    "    for (i,crop) in enumerate(crops_xyxy):\n",
    "        target_image_name = '.'.join(file_name.split('.')[:-1])+'_'+str(i)+'.'+file_name.split('.')[-1]\n",
    "        target_image_name = os.path.join(path,'crops',target_image_name)\n",
    "        cv2.imwrite(target_image_name, original[crop[1]:crop[3], crop[0]:crop[2]])\n",
    "        \n",
    "\n"
   ]
  },
  {
   "cell_type": "code",
   "execution_count": 22,
   "id": "de1de8c9",
   "metadata": {},
   "outputs": [
    {
     "name": "stdout",
     "output_type": "stream",
     "text": [
      "20F03.jpeg\n",
      "20F04.jpg\n",
      "12F02.JPG\n",
      "12F01.jpg\n",
      "20F02.jpg\n",
      "20F01.JPG\n"
     ]
    }
   ],
   "source": [
    "for f in os.listdir(path):\n",
    "    if os.path.isfile(os.path.join(path,f)):\n",
    "        process_file(path,f)"
   ]
  },
  {
   "cell_type": "markdown",
   "id": "9fa50da8",
   "metadata": {},
   "source": [
    "python ./yolov5/detect.py --weights ./yolov5/runs/train/exp3/weights/best.pt --source ../../ladd-and-weights/dataset/unmarked/test_crops/crops/ --imgsz 608 --conf-thres 0.05 --iou-thres 0.01 --save-txt "
   ]
  }
 ],
 "metadata": {
  "interpreter": {
   "hash": "5bc5b443a3624a5fc3c89e6c5ef6facc856f2601421ec01dcd67b6b363ab748a"
  },
  "kernelspec": {
   "display_name": "Python 3.9.12 ('lacmus')",
   "language": "python",
   "name": "python3"
  },
  "language_info": {
   "codemirror_mode": {
    "name": "ipython",
    "version": 3
   },
   "file_extension": ".py",
   "mimetype": "text/x-python",
   "name": "python",
   "nbconvert_exporter": "python",
   "pygments_lexer": "ipython3",
   "version": "3.9.12"
  }
 },
 "nbformat": 4,
 "nbformat_minor": 5
}
