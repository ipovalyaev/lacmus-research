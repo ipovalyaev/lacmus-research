{
 "cells": [
  {
   "cell_type": "code",
   "execution_count": 1,
   "id": "96c52058-fc4a-4df0-a774-0c0fdc8d9923",
   "metadata": {},
   "outputs": [],
   "source": [
    "import os\n",
    "\n",
    "import xml.etree.ElementTree as ET\n",
    "from typing import Any, Callable, Dict, List, Optional, Tuple, Union\n",
    "import collections\n",
    "\n",
    "import pandas as pd\n",
    "from matplotlib import pyplot as plt\n",
    "import numpy as np"
   ]
  },
  {
   "cell_type": "code",
   "execution_count": 37,
   "id": "831f92e7-94d3-4073-a79b-99b419f6ea25",
   "metadata": {},
   "outputs": [],
   "source": [
    "ladd_anotation_path = '../../../ladd-and-weights/dataset/full_train_ds/Annotations/'\n",
    "ipsar_anotation_path = '../../../ladd-and-weights/dataset/3rd_party/heridal/trainImages/labels/'\n"
   ]
  },
  {
   "cell_type": "code",
   "execution_count": 38,
   "id": "9be692c3-0306-409f-882c-c848a87a7c50",
   "metadata": {},
   "outputs": [],
   "source": [
    "def parse_voc_xml(node: ET.Element) -> Dict[str, Any]:\n",
    "    voc_dict: Dict[str, Any] = {}\n",
    "    children = list(node)\n",
    "    if children:\n",
    "        def_dic: Dict[str, Any] = collections.defaultdict(list)\n",
    "        for dc in map(parse_voc_xml, children):\n",
    "            for ind, v in dc.items():\n",
    "                def_dic[ind].append(v)\n",
    "        if node.tag == 'annotation':\n",
    "            def_dic['object'] = [def_dic['object']]\n",
    "        voc_dict = {\n",
    "            node.tag:\n",
    "                {ind: v[0] if len(v) == 1 else v\n",
    "                 for ind, v in def_dic.items()}\n",
    "        }\n",
    "    if node.text:\n",
    "        text = node.text.strip()\n",
    "        if not children:\n",
    "            voc_dict[node.tag] = text\n",
    "    return voc_dict"
   ]
  },
  {
   "cell_type": "code",
   "execution_count": 39,
   "id": "c9b1e9bb-dd0d-4e9d-a99d-c31437170a5c",
   "metadata": {},
   "outputs": [],
   "source": [
    "def get_imgSize_and_list_of_yxyx(xml_path):\n",
    "    mytree = parse_voc_xml(ET.parse(xml_path).getroot())\n",
    "    xyxy=[]\n",
    "    if 'annotation' not in mytree:\n",
    "        return ((0,0),())\n",
    "    for p in mytree['annotation']['object']:\n",
    "        y1=int(p['bndbox']['ymin'])\n",
    "        x1=int(p['bndbox']['xmin'])\n",
    "        y2=int(p['bndbox']['ymax'])\n",
    "        x2=int(p['bndbox']['xmax'])\n",
    "        xyxy.append(((x1,y1),(x2,y2)))\n",
    "    size=(int(mytree['annotation']['size']['width']),int(mytree['annotation']['size']['height']))\n",
    "    return size, xyxy"
   ]
  },
  {
   "cell_type": "code",
   "execution_count": 40,
   "id": "596cdf29-dbfd-46a4-9169-591638d6cb56",
   "metadata": {},
   "outputs": [],
   "source": [
    "def get_xywh_from_point(size,points,file_id):\n",
    "    w,h=size\n",
    "    x=((points[0][0]+points[1][0])/2)/w\n",
    "    y=((points[0][1]+points[1][1])/2)/h\n",
    "    im_w=abs((points[0][0]-points[1][0]))/w\n",
    "    im_h=abs((points[0][1]-points[1][1]))/h\n",
    "    return x,y,im_w,im_h,file_id"
   ]
  },
  {
   "cell_type": "code",
   "execution_count": 41,
   "id": "89d24da2-2977-408b-a756-5ffa7d7b125a",
   "metadata": {},
   "outputs": [],
   "source": [
    "ladd_coords = pd.DataFrame(columns = ['x','y','w','h','file'])\n",
    "for xml_name in os.listdir(ladd_anotation_path):\n",
    "    if not os.path.isfile(os.path.join(ladd_anotation_path,xml_name)):\n",
    "        continue\n",
    "    file_id,_ = os.path.splitext(xml_name)\n",
    "    img_size, points_yxyx=get_imgSize_and_list_of_yxyx(os.path.join(ladd_anotation_path,xml_name))\n",
    "    xywhs=[get_xywh_from_point(img_size,xyxy_single,file_id) for xyxy_single in points_yxyx]\n",
    "    ladd_coords = ladd_coords.append(pd.DataFrame(xywhs,columns = ['x','y','w','h','file']))"
   ]
  },
  {
   "cell_type": "code",
   "execution_count": 42,
   "id": "dbdfff1a-a716-48b8-8df7-599bcda0afd7",
   "metadata": {},
   "outputs": [
    {
     "name": "stdout",
     "output_type": "stream",
     "text": [
      "Files without annotations: 563 from 1548\n"
     ]
    }
   ],
   "source": [
    "ipsar_coords = pd.DataFrame(columns = ['x','y','w','h','file'])\n",
    "empty_annotations = []\n",
    "ipsar_total = 0\n",
    "for xml_name in os.listdir(ipsar_anotation_path):\n",
    "    if not os.path.isfile(os.path.join(ipsar_anotation_path,xml_name)):\n",
    "        continue\n",
    "    ipsar_total += 1\n",
    "    file_id,_ = os.path.splitext(xml_name)\n",
    "    img_size, points_yxyx=get_imgSize_and_list_of_yxyx(os.path.join(ipsar_anotation_path,xml_name))\n",
    "    if img_size==(0,0):\n",
    "        empty_annotations.append(file_id)\n",
    "    else:\n",
    "        xywhs=[get_xywh_from_point(img_size,xyxy_single,file_id) for xyxy_single in points_yxyx]\n",
    "        ipsar_coords = ipsar_coords.append(pd.DataFrame(xywhs,columns = ['x','y','w','h','file']))\n",
    "\n",
    "print('Files without annotations: ' + str(len(empty_annotations)) + ' from ' + str(ipsar_total))"
   ]
  },
  {
   "cell_type": "code",
   "execution_count": 8,
   "id": "65275d75-dd7e-43e6-85cf-fb9d2fb00599",
   "metadata": {},
   "outputs": [
    {
     "data": {
      "text/plain": [
       "3.434113712374582"
      ]
     },
     "execution_count": 8,
     "metadata": {},
     "output_type": "execute_result"
    }
   ],
   "source": [
    "ladd_coords.groupby('file').count()['x'].mean()"
   ]
  },
  {
   "cell_type": "code",
   "execution_count": 9,
   "id": "f19bc001-d59e-40d1-89c5-0257f8eadff1",
   "metadata": {},
   "outputs": [
    {
     "data": {
      "text/plain": [
       "2.9360406091370557"
      ]
     },
     "execution_count": 9,
     "metadata": {},
     "output_type": "execute_result"
    }
   ],
   "source": [
    "ipsar_coords.groupby('file').count()['x'].mean()"
   ]
  },
  {
   "cell_type": "code",
   "execution_count": 11,
   "id": "a8adbfa7-98ce-4bf3-b5a4-f573ba2d6264",
   "metadata": {},
   "outputs": [
    {
     "data": {
      "text/plain": [
       "array([[<AxesSubplot:title={'center':'x'}>,\n",
       "        <AxesSubplot:title={'center':'y'}>],\n",
       "       [<AxesSubplot:title={'center':'w'}>,\n",
       "        <AxesSubplot:title={'center':'h'}>]], dtype=object)"
      ]
     },
     "execution_count": 11,
     "metadata": {},
     "output_type": "execute_result"
    },
    {
     "data": {
      "image/png": "[encoded data removed]",
      "text/plain": [
       "<Figure size 432x288 with 4 Axes>"
      ]
     },
     "metadata": {
      "needs_background": "light"
     },
     "output_type": "display_data"
    }
   ],
   "source": [
    "ladd_coords[['x','y','w','h']].hist(bins = 50)"
   ]
  },
  {
   "cell_type": "code",
   "execution_count": 12,
   "id": "b7b14844-2170-4787-96d8-ad925e020860",
   "metadata": {},
   "outputs": [
    {
     "data": {
      "text/plain": [
       "array([[<AxesSubplot:title={'center':'x'}>,\n",
       "        <AxesSubplot:title={'center':'y'}>],\n",
       "       [<AxesSubplot:title={'center':'w'}>,\n",
       "        <AxesSubplot:title={'center':'h'}>]], dtype=object)"
      ]
     },
     "execution_count": 12,
     "metadata": {},
     "output_type": "execute_result"
    },
    {
     "data": {
      "image/png": "[encoded data removed]",
      "text/plain": [
       "<Figure size 432x288 with 4 Axes>"
      ]
     },
     "metadata": {
      "needs_background": "light"
     },
     "output_type": "display_data"
    }
   ],
   "source": [
    "ipsar_coords[['x','y','w','h']].hist(bins = 50)"
   ]
  },
  {
   "cell_type": "code",
   "execution_count": null,
   "id": "dbc4749c-5bb7-4773-879f-17c4f415d3f6",
   "metadata": {},
   "outputs": [],
   "source": []
  }
 ],
 "metadata": {
  "kernelspec": {
   "display_name": "Python 3 (ipykernel)",
   "language": "python",
   "name": "python3"
  },
  "language_info": {
   "codemirror_mode": {
    "name": "ipython",
    "version": 3
   },
   "file_extension": ".py",
   "mimetype": "text/x-python",
   "name": "python",
   "nbconvert_exporter": "python",
   "pygments_lexer": "ipython3",
   "version": "3.9.7"
  }
 },
 "nbformat": 4,
 "nbformat_minor": 5
}
