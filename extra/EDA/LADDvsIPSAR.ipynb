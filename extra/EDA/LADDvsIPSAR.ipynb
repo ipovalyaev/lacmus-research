{
 "cells": [
  {
   "cell_type": "code",
   "execution_count": 1,
   "id": "96c52058-fc4a-4df0-a774-0c0fdc8d9923",
   "metadata": {},
   "outputs": [],
   "source": [
    "import os\n",
    "import pandas as pd\n",
    "from matplotlib import pyplot as plt\n",
    "import numpy as np\n",
    "\n",
    "from functions import *"
   ]
  },
  {
   "cell_type": "code",
   "execution_count": 2,
   "id": "831f92e7-94d3-4073-a79b-99b419f6ea25",
   "metadata": {},
   "outputs": [],
   "source": [
    "ladd_anotation_path = '../../../ladd-and-weights/dataset/full_train_ds/Annotations/'\n",
    "ipsar_anotation_path = '../../../ladd-and-weights/dataset/3rd_party/heridal/Annotations/'\n"
   ]
  },
  {
   "cell_type": "code",
   "execution_count": 3,
   "id": "89d24da2-2977-408b-a756-5ffa7d7b125a",
   "metadata": {},
   "outputs": [],
   "source": [
    "data = []\n",
    "for xml_name in os.listdir(ladd_anotation_path):\n",
    "    if not os.path.isfile(os.path.join(ladd_anotation_path,xml_name)):\n",
    "        continue\n",
    "    file_id,_ = os.path.splitext(xml_name)\n",
    "    img_size, points_yxyx=get_imgSize_and_list_of_yxyx(os.path.join(ladd_anotation_path,xml_name))\n",
    "    xywhs=[get_xywh_from_point(img_size,xyxy_single,file_id) for xyxy_single in points_yxyx]\n",
    "    data.extend(xywhs)\n",
    "ladd_coords = pd.DataFrame(data,columns = ['x','y','w','h','file'])"
   ]
  },
  {
   "cell_type": "code",
   "execution_count": 4,
   "id": "dbdfff1a-a716-48b8-8df7-599bcda0afd7",
   "metadata": {},
   "outputs": [
    {
     "name": "stdout",
     "output_type": "stream",
     "text": [
      "Files without annotations: 563 from 1651\n"
     ]
    }
   ],
   "source": [
    "empty_annotations = []\n",
    "ipsar_total = 0\n",
    "data = []\n",
    "for xml_name in os.listdir(ipsar_anotation_path):\n",
    "    if not os.path.isfile(os.path.join(ipsar_anotation_path,xml_name)):\n",
    "        continue\n",
    "    ipsar_total += 1\n",
    "    file_id,_ = os.path.splitext(xml_name)\n",
    "    img_size, points_yxyx=get_imgSize_and_list_of_yxyx(os.path.join(ipsar_anotation_path,xml_name))\n",
    "    if img_size==(0,0):\n",
    "        empty_annotations.append(file_id)\n",
    "    else:\n",
    "        xywhs=[get_xywh_from_point(img_size,xyxy_single,file_id) for xyxy_single in points_yxyx]\n",
    "        data.extend(xywhs)\n",
    "ipsar_coords = pd.DataFrame(data,columns = ['x','y','w','h','file'])\n",
    "print('Files without annotations: ' + str(len(empty_annotations)) + ' from ' + str(ipsar_total))"
   ]
  },
  {
   "cell_type": "code",
   "execution_count": 5,
   "id": "65275d75-dd7e-43e6-85cf-fb9d2fb00599",
   "metadata": {},
   "outputs": [
    {
     "data": {
      "text/plain": [
       "3.434113712374582"
      ]
     },
     "execution_count": 5,
     "metadata": {},
     "output_type": "execute_result"
    }
   ],
   "source": [
    "ladd_coords.groupby('file').count()['x'].mean()"
   ]
  },
  {
   "cell_type": "code",
   "execution_count": 6,
   "id": "f19bc001-d59e-40d1-89c5-0257f8eadff1",
   "metadata": {},
   "outputs": [
    {
     "data": {
      "text/plain": [
       "2.973345588235294"
      ]
     },
     "execution_count": 6,
     "metadata": {},
     "output_type": "execute_result"
    }
   ],
   "source": [
    "ipsar_coords.groupby('file').count()['x'].mean()"
   ]
  },
  {
   "cell_type": "code",
   "execution_count": 7,
   "id": "a8adbfa7-98ce-4bf3-b5a4-f573ba2d6264",
   "metadata": {},
   "outputs": [
    {
     "data": {
      "text/plain": [
       "array([[<AxesSubplot:title={'center':'x'}>,\n",
       "        <AxesSubplot:title={'center':'y'}>],\n",
       "       [<AxesSubplot:title={'center':'w'}>,\n",
       "        <AxesSubplot:title={'center':'h'}>]], dtype=object)"
      ]
     },
     "execution_count": 7,
     "metadata": {},
     "output_type": "execute_result"
    },
    {
     "data": {
      "image/png": "[encoded data removed]",
      "text/plain": [
       "<Figure size 432x288 with 4 Axes>"
      ]
     },
     "metadata": {
      "needs_background": "light"
     },
     "output_type": "display_data"
    }
   ],
   "source": [
    "ladd_coords[['x','y','w','h']].hist(bins = 50)"
   ]
  },
  {
   "cell_type": "code",
   "execution_count": 8,
   "id": "b7b14844-2170-4787-96d8-ad925e020860",
   "metadata": {},
   "outputs": [
    {
     "data": {
      "text/plain": [
       "array([[<AxesSubplot:title={'center':'x'}>,\n",
       "        <AxesSubplot:title={'center':'y'}>],\n",
       "       [<AxesSubplot:title={'center':'w'}>,\n",
       "        <AxesSubplot:title={'center':'h'}>]], dtype=object)"
      ]
     },
     "execution_count": 8,
     "metadata": {},
     "output_type": "execute_result"
    },
    {
     "data": {
      "image/png": "[encoded data removed]",
      "text/plain": [
       "<Figure size 432x288 with 4 Axes>"
      ]
     },
     "metadata": {
      "needs_background": "light"
     },
     "output_type": "display_data"
    }
   ],
   "source": [
    "ipsar_coords[['x','y','w','h']].hist(bins = 50)"
   ]
  },
  {
   "cell_type": "code",
   "execution_count": null,
   "id": "dbc4749c-5bb7-4773-879f-17c4f415d3f6",
   "metadata": {},
   "outputs": [],
   "source": []
  }
 ],
 "metadata": {
  "interpreter": {
   "hash": "5bc5b443a3624a5fc3c89e6c5ef6facc856f2601421ec01dcd67b6b363ab748a"
  },
  "kernelspec": {
   "display_name": "Python 3.9.12 ('lacmus')",
   "language": "python",
   "name": "python3"
  },
  "language_info": {
   "codemirror_mode": {
    "name": "ipython",
    "version": 3
   },
   "file_extension": ".py",
   "mimetype": "text/x-python",
   "name": "python",
   "nbconvert_exporter": "python",
   "pygments_lexer": "ipython3",
   "version": "3.9.12"
  }
 },
 "nbformat": 4,
 "nbformat_minor": 5
}
