{
 "cells": [
  {
   "cell_type": "code",
   "execution_count": 1,
   "id": "a6ffd37b-bfb4-4aa1-823f-a09f968793e1",
   "metadata": {},
   "outputs": [],
   "source": [
    "import os\n",
    "import shutil\n",
    "import cv2\n",
    "from functions import *"
   ]
  },
  {
   "cell_type": "code",
   "execution_count": 2,
   "id": "b7e7460a-3e57-461f-85a8-4da1a67b24ac",
   "metadata": {},
   "outputs": [],
   "source": [
    "ladd_path = '../../../ladd-and-weights/dataset/full_train_ds'\n",
    "ipsar_path = '../../../ladd-and-weights/dataset/3rd_party/heridal'\n",
    "ladd_anotation_path = os.path.join(ladd_path,'Annotations')\n",
    "ipsar_anotation_path = os.path.join(ipsar_path,'Annotations')\n",
    "target_path = '../../networks/data/'"
   ]
  },
  {
   "cell_type": "code",
   "execution_count": 3,
   "id": "b9a722a6-6d0c-4309-9ddb-9a5500017cd8",
   "metadata": {},
   "outputs": [],
   "source": [
    "labels_dir=os.path.join(target_path,'converted_labels')\n",
    "os.makedirs(labels_dir,exist_ok=True)"
   ]
  },
  {
   "cell_type": "code",
   "execution_count": 4,
   "id": "14496922",
   "metadata": {},
   "outputs": [
    {
     "name": "stdout",
     "output_type": "stream",
     "text": [
      "total annotations:  3203\n"
     ]
    }
   ],
   "source": [
    "annotation_files = [os.path.join (ladd_anotation_path,f) for f in os.listdir(ladd_anotation_path)] + \\\n",
    "    [os.path.join (ipsar_anotation_path,f) for f in os.listdir(ipsar_anotation_path)]\n",
    "print('total annotations: ',len(annotation_files))"
   ]
  },
  {
   "cell_type": "code",
   "execution_count": 5,
   "id": "e4443b83-f7f7-48d8-b352-e55a1f6d0b27",
   "metadata": {},
   "outputs": [],
   "source": [
    "for xml_name in annotation_files:\n",
    "    img_size, points_yxyx=get_imgSize_and_list_of_yxyx(xml_name)\n",
    "    xywhs=[get_xywh_from_point(img_size,xyxy_single) for xyxy_single in points_yxyx]\n",
    "    id = os.path.splitext(os.path.split(xml_name)[1])[0]\n",
    "    f=open(os.path.join(labels_dir,id+'.txt'),'w')\n",
    "    for box in xywhs:\n",
    "        f.write(\" \".join(['0',*map(str,box[:-1])])+'\\n')\n",
    "    f.close()"
   ]
  },
  {
   "cell_type": "code",
   "execution_count": 6,
   "id": "b030236f",
   "metadata": {},
   "outputs": [],
   "source": [
    "dataset_images_path=os.path.join(target_path,'images')\n",
    "dataset_labels_path=os.path.join(target_path,'labels')\n",
    "os.makedirs(dataset_images_path,exist_ok=True)\n",
    "os.makedirs(dataset_labels_path, exist_ok=True)"
   ]
  },
  {
   "cell_type": "code",
   "execution_count": 7,
   "id": "330f4eb9",
   "metadata": {},
   "outputs": [
    {
     "name": "stdout",
     "output_type": "stream",
     "text": [
      "1311\n",
      "2894\n"
     ]
    }
   ],
   "source": [
    "trainset = []\n",
    "with open(os.path.join(ladd_path,'ImageSets/Main/train.txt'),'r') as f:\n",
    "    trainset.extend([os.path.join(ladd_path,'JPEGImages',s.strip()) for s in f.readlines()])\n",
    "print(len(trainset))\n",
    "with open(os.path.join(ipsar_path,'ImageSets/Main/train.txt'),'r') as f:\n",
    "    trainset.extend([os.path.join(ipsar_path,'JPEGImages',s.strip()) for s in f.readlines()])\n",
    "print(len(trainset))"
   ]
  },
  {
   "cell_type": "code",
   "execution_count": 8,
   "id": "302cad6c",
   "metadata": {},
   "outputs": [
    {
     "name": "stdout",
     "output_type": "stream",
     "text": [
      "total train  2894  missed labels  37\n"
     ]
    }
   ],
   "source": [
    "images_train_path=os.path.join(target_path,'images','train')\n",
    "labels_train_path=os.path.join(target_path,'labels','train')\n",
    "os.makedirs(images_train_path,exist_ok=True)\n",
    "os.makedirs(labels_train_path, exist_ok=True)\n",
    "missed_labels = 0\n",
    "\n",
    "for file in trainset:\n",
    "    id=os.path.split(file)[-1]\n",
    "    shutil.copy(file+'.jpg',os.path.join(images_train_path,id+'.jpg'))\n",
    "    if os.path.exists(os.path.join(labels_dir,id+'.txt')):\n",
    "        shutil.copy(os.path.join(labels_dir,id+'.txt'),os.path.join(labels_train_path,id+'.txt'))\n",
    "    else:\n",
    "        os.mknod(os.path.join(labels_train_path,id+'.txt'))\n",
    "        missed_labels+=1\n",
    "print('total train ', len(trainset),' missed labels ' ,missed_labels)"
   ]
  },
  {
   "cell_type": "code",
   "execution_count": 9,
   "id": "a34c3789",
   "metadata": {},
   "outputs": [],
   "source": [
    "valset = []\n",
    "with open(os.path.join(ladd_path,'ImageSets/Main/val.txt'),'r') as f:\n",
    "    valset.extend([os.path.join(ladd_path,'JPEGImages',s.strip()) for s in f.readlines()])\n",
    "with open(os.path.join(ipsar_path,'ImageSets/Main/val.txt'),'r') as f:\n",
    "    valset.extend([os.path.join(ipsar_path,'JPEGImages',s.strip()) for s in f.readlines()])"
   ]
  },
  {
   "cell_type": "code",
   "execution_count": 10,
   "id": "9ed543e3",
   "metadata": {},
   "outputs": [
    {
     "name": "stdout",
     "output_type": "stream",
     "text": [
      "total val  323  missed labels  0\n"
     ]
    }
   ],
   "source": [
    "images_valid_path=os.path.join(target_path,'images','valid')\n",
    "labels_valid_path=os.path.join(target_path,'labels','valid')\n",
    "os.makedirs(images_valid_path,exist_ok=True)\n",
    "os.makedirs(labels_valid_path, exist_ok=True)\n",
    "missed_labels = 0\n",
    "\n",
    "for file in valset:\n",
    "    id=os.path.split(file)[-1]\n",
    "    shutil.copy(file+'.jpg',os.path.join(images_valid_path,id+'.jpg'))\n",
    "    if os.path.exists(os.path.join(labels_dir,id+'.txt')):\n",
    "        shutil.copy(os.path.join(labels_dir,id+'.txt'),os.path.join(labels_valid_path,id+'.txt'))\n",
    "    else:\n",
    "        os.mknod(os.path.join(labels_valid_path,id+'.txt'))\n",
    "        missed_labels+=1\n",
    "print('total val ', len(valset),' missed labels ' ,missed_labels)"
   ]
  },
  {
   "cell_type": "code",
   "execution_count": null,
   "id": "de025168",
   "metadata": {},
   "outputs": [],
   "source": []
  }
 ],
 "metadata": {
  "interpreter": {
   "hash": "5bc5b443a3624a5fc3c89e6c5ef6facc856f2601421ec01dcd67b6b363ab748a"
  },
  "kernelspec": {
   "display_name": "Python 3.9.12 ('lacmus')",
   "language": "python",
   "name": "python3"
  },
  "language_info": {
   "codemirror_mode": {
    "name": "ipython",
    "version": 3
   },
   "file_extension": ".py",
   "mimetype": "text/x-python",
   "name": "python",
   "nbconvert_exporter": "python",
   "pygments_lexer": "ipython3",
   "version": "3.9.12"
  }
 },
 "nbformat": 4,
 "nbformat_minor": 5
}
